{
 "cells": [
  {
   "cell_type": "raw",
   "metadata": {},
   "source": [
    "===================================================================\n",
    "\n",
    "Determine the observable time of the Canopus on the Vernal and Autumnal equinox among -2000 B.C.E. ~ 0 B.C."
   ]
  },
  {
   "cell_type": "code",
   "execution_count": 1,
   "metadata": {},
   "outputs": [],
   "source": [
    "%matplotlib inline\n",
    "import numpy as np\n",
    "import matplotlib.pyplot as plt\n",
    "from astropy.visualization import astropy_mpl_style\n",
    "plt.style.use(astropy_mpl_style)\n",
    "\n",
    "import astropy.units as u\n",
    "from astropy.time import Time\n",
    "from astropy.coordinates import SkyCoord, EarthLocation, AltAz, ICRS"
   ]
  },
  {
   "cell_type": "markdown",
   "metadata": {},
   "source": [
    "The observing period is the whole year of -2000 B.C.E. ~ 0 B.C.\n",
    "To represent the epoch before the common era, I use the Julian date."
   ]
  },
  {
   "cell_type": "raw",
   "metadata": {},
   "source": [
    "We can see that if we transformate the dates into UTC, they don't exactly respond to March 21 or September 23.\n",
    "This is normal since UTC is used only after 1960-01-01.\n",
    "In my opinion, this won't affect our results."
   ]
  },
  {
   "cell_type": "markdown",
   "metadata": {},
   "source": [
    "I calculate the altitude and azimuth of Sun and Canopus among 4:00~8:00 in autumnal equinox and 16:00~20:00 in vernal equinox for every year."
   ]
  },
  {
   "cell_type": "code",
   "execution_count": 2,
   "metadata": {},
   "outputs": [],
   "source": [
    "def observable_duration(obs_time):\n",
    "    \"\"\"\n",
    "    \"\"\"\n",
    "\n",
    "    # Assume we have an observer in Tai Mountain.\n",
    "    taishan = EarthLocation(lat=36.2*u.deg, lon=117.1*u.deg, height=1500*u.m)\n",
    "\n",
    "    utcoffset = +8 * u.hour  # Daylight Time\n",
    "    midnight = obs_time - utcoffset\n",
    "\n",
    "    # Position of the Canopus with the proper motion correction at the beginning of the year.\n",
    "    # This effect is very small.\n",
    "    dt_jyear = obs_time.jyear - 2000.0\n",
    "    ra = 95.98787790 * u.deg + 19.93 * u.mas * dt_jyear\n",
    "    dec = -52.69571787 * u.deg + 23.24 * u.mas * dt_jyear\n",
    "    hip30438 = SkyCoord(ra=ra, dec=dec, frame=\"icrs\")\n",
    "\n",
    "    delta_midnight = np.arange(0, 24, 1./30) * u.hour # Interval of 2 minutes\n",
    "    obser_time = midnight + delta_midnight\n",
    "\n",
    "    local_frame = AltAz(obstime=obser_time,\n",
    "                        location=taishan)\n",
    "    hip30438altazs = hip30438.transform_to(local_frame)\n",
    "\n",
    "    # position of Sun\n",
    "    from astropy.coordinates import get_sun\n",
    "    sunaltazs = get_sun(obser_time).transform_to(local_frame)\n",
    "\n",
    "    mask = (sunaltazs.alt < -0*u.deg) & (hip30438altazs.alt > 0)\n",
    "    observable_time = delta_midnight[mask]\n",
    "    \n",
    "    # observable_time\n",
    "    if len(observable_time):\n",
    "        beg_time = observable_time.min().to('hr').value\n",
    "        end_time = observable_time.max().to('hr').value\n",
    "    else:\n",
    "        beg_time, end_time = 0, 0 \n",
    "\n",
    "    return beg_time, end_time"
   ]
  },
  {
   "cell_type": "code",
   "execution_count": 3,
   "metadata": {},
   "outputs": [
    {
     "name": "stderr",
     "output_type": "stream",
     "text": [
      "WARNING: ErfaWarning: ERFA function \"dtf2d\" yielded 1 of \"dubious year (Note 6)\" [astropy._erfa.core]\n",
      "WARNING: ErfaWarning: ERFA function \"utctai\" yielded 1 of \"dubious year (Note 3)\" [astropy._erfa.core]\n",
      "WARNING: ErfaWarning: ERFA function \"taiutc\" yielded 2000 of \"dubious year (Note 4)\" [astropy._erfa.core]\n",
      "WARNING: ErfaWarning: ERFA function \"taiutc\" yielded 10 of \"dubious year (Note 4)\" [astropy._erfa.core]\n",
      "WARNING: ErfaWarning: ERFA function \"taiutc\" yielded 1 of \"dubious year (Note 4)\" [astropy._erfa.core]\n",
      "WARNING: ErfaWarning: ERFA function \"taiutc\" yielded 720 of \"dubious year (Note 4)\" [astropy._erfa.core]\n",
      "WARNING: ErfaWarning: ERFA function \"utctai\" yielded 720 of \"dubious year (Note 3)\" [astropy._erfa.core]\n",
      "WARNING: ErfaWarning: ERFA function \"epv00\" yielded 720 of \"warning: date outsidethe range 1900-2100 AD\" [astropy._erfa.core]\n",
      "WARNING: Tried to get polar motions for times before IERS data is valid. Defaulting to polar motion from the 50-yr mean for those. This may affect precision at the 10s of arcsec level [astropy.coordinates.builtin_frames.utils]\n",
      "WARNING: ErfaWarning: ERFA function \"apio13\" yielded 720 of \"dubious year (Note 2)\" [astropy._erfa.core]\n",
      "WARNING: ErfaWarning: ERFA function \"utctai\" yielded 720 of \"dubious year (Note 3)\" [astropy._erfa.core]\n",
      "WARNING: ErfaWarning: ERFA function \"taiutc\" yielded 720 of \"dubious year (Note 4)\" [astropy._erfa.core]\n",
      "WARNING: ErfaWarning: ERFA function \"epv00\" yielded 720 of \"warning: date outsidethe range 1900-2100 AD\" [astropy._erfa.core]\n",
      "WARNING: ErfaWarning: ERFA function \"utcut1\" yielded 720 of \"dubious year (Note 3)\" [astropy._erfa.core]\n",
      "WARNING: ErfaWarning: ERFA function \"utctai\" yielded 1 of \"dubious year (Note 3)\" [astropy._erfa.core]\n",
      "WARNING: ErfaWarning: ERFA function \"taiutc\" yielded 1 of \"dubious year (Note 4)\" [astropy._erfa.core]\n",
      "WARNING: ErfaWarning: ERFA function \"taiutc\" yielded 10 of \"dubious year (Note 4)\" [astropy._erfa.core]\n"
     ]
    }
   ],
   "source": [
    "year_arr = np.arange(0, 2000, 1)\n",
    "\n",
    "# Number of days for every year\n",
    "date_nb = np.ones_like(year_arr)\n",
    "date_nb = np.where(year_arr % 4 == 0, 366, 365)\n",
    "date_nb = np.where((year_arr % 100 == 0) & (\n",
    "    year_arr % 400 != 0), 365, date_nb)\n",
    "\n",
    "total_date_nb = np.zeros_like(year_arr)\n",
    "for i in range(year_arr.size):\n",
    "    total_date_nb[i] = np.sum(date_nb[:i+1])\n",
    "\n",
    "# Autumnal equinox of every year\n",
    "obs_time_aut = Time(\"0000-09-23 00:00:00\") - total_date_nb * u.day\n",
    "\n",
    "\n",
    "# Calculate the observable time of everyday\n",
    "beg_time = np.zeros_like(obs_time_aut)\n",
    "end_time = np.zeros_like(obs_time_aut)\n",
    "obs_dur = np.zeros_like(obs_time_aut) # Observable duration\n",
    "\n",
    "for i, obs_timei in enumerate(obs_time_aut):\n",
    "    # we calculate the 30 days before and after the equinox\n",
    "    delta_date = np.arange(-5, 5, 1) * u.day\n",
    "    obs_time0 = obs_timei + delta_date\n",
    "\n",
    "    beg_time_aut = np.zeros_like(obs_time0)\n",
    "    end_time_aut = np.zeros_like(obs_time0)\n",
    "\n",
    "    for j, obs_time0j in enumerate(obs_time0):\n",
    "        # Vernal equninox\n",
    "        beg_time_aut[j], end_time_aut[j] = observable_duration(obs_time0j)\n",
    "        \n",
    "    obs_dur_aut = end_time_aut - beg_time_aut\n",
    "    \n",
    "    obs_dur[i] = np.max(obs_dur_aut)\n",
    "    beg_time[i] = beg_time_aut[obs_dur_aut == obs_dur[i]][0]\n",
    "    end_time[i] = end_time_aut[obs_dur_aut == obs_dur[i]][0]"
   ]
  },
  {
   "cell_type": "markdown",
   "metadata": {},
   "source": [
    "I assume that the Canopus can be observed by the local observer only when the observable duration in one day is longer than 10 minitues.\n",
    "With such an assumption, I determine the observable period of the Canopus."
   ]
  },
  {
   "cell_type": "code",
   "execution_count": 7,
   "metadata": {},
   "outputs": [],
   "source": [
    "# Save data\n",
    "np.save(\"multi_epoch-max-duration-Autumnal-output\", [obs_time_aut.jyear, obs_dur])\n",
    "\n",
    "# For Autumnal equinox\n",
    "# mask = (obs_dur >= 1./6)\n",
    "mask = (obs_dur >= 1.0/60)\n",
    "observable_date = obs_time_aut[mask]"
   ]
  },
  {
   "cell_type": "code",
   "execution_count": 8,
   "metadata": {},
   "outputs": [
    {
     "data": {
      "image/png": "[encoded data removed]",
      "text/plain": [
       "<Figure size 864x576 with 1 Axes>"
      ]
     },
     "metadata": {},
     "output_type": "display_data"
    }
   ],
   "source": [
    "fig, ax = plt.subplots(figsize=(12, 8))\n",
    "ax.plot(observable_date.jyear, obs_dur[mask],\n",
    "          \"r.\", ms=3, label=\"Autumnal\")\n",
    "\n",
    "# ax.fill_between(obs_time.jyear, 0, 24,\n",
    "#                  (obs_dur1 >= 1./6) & (obs_dur2 >= 1./6), color=\"0.8\", zorder=0)\n",
    "\n",
    "ax.set_xlabel(\"Year\", fontsize=15)\n",
    "ax.set_xlim([-2000, 0])\n",
    "ax.set_xticks(np.arange(-2000, 1, 100))\n",
    "\n",
    "ax.set_ylim([0, 2.0])\n",
    "ax.set_ylabel(\"Time (hour)\", fontsize=15)\n",
    "ax.set_title(\"Observable duration of Canopus among $-2000$ B.C.E and 0\")\n",
    "\n",
    "ax.legend(fontsize=15)\n",
    "\n",
    "fig.tight_layout()\n",
    "plt.savefig(\"multi_epoch-max-duration-Autumnal.eps\", dpi=100)\n",
    "plt.savefig(\"multi_epoch-max-duration-Autumnal.png\", dpi=100)"
   ]
  }
 ],
 "metadata": {
  "hide_input": false,
  "kernelspec": {
   "display_name": "Python 3",
   "language": "python",
   "name": "python3"
  },
  "language_info": {
   "codemirror_mode": {
    "name": "ipython",
    "version": 3
   },
   "file_extension": ".py",
   "mimetype": "text/x-python",
   "name": "python",
   "nbconvert_exporter": "python",
   "pygments_lexer": "ipython3",
   "version": "3.5.5"
  }
 },
 "nbformat": 4,
 "nbformat_minor": 2
}
