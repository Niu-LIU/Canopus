{
 "cells": [
  {
   "cell_type": "raw",
   "metadata": {},
   "source": [
    "===================================================================\n",
    "\n",
    "Determine the observable time of the Canopus on the Vernal and Autumnal equinox among -2000 B.C.E. ~ 0 B.C."
   ]
  },
  {
   "cell_type": "code",
   "execution_count": 2,
   "metadata": {},
   "outputs": [],
   "source": [
    "%matplotlib inline\n",
    "import numpy as np\n",
    "import matplotlib.pyplot as plt\n",
    "from astropy.visualization import astropy_mpl_style\n",
    "plt.style.use(astropy_mpl_style)\n",
    "\n",
    "import astropy.units as u\n",
    "from astropy.time import Time\n",
    "from astropy.coordinates import SkyCoord, EarthLocation, AltAz, ICRS"
   ]
  },
  {
   "cell_type": "markdown",
   "metadata": {},
   "source": [
    "Assume we have an observer in Tai Mountain."
   ]
  },
  {
   "cell_type": "code",
   "execution_count": 3,
   "metadata": {},
   "outputs": [],
   "source": [
    "taishan = EarthLocation(lat=36.2*u.deg, lon=117.1*u.deg, height=1500*u.m)"
   ]
  },
  {
   "cell_type": "markdown",
   "metadata": {},
   "source": [
    "The observing period is the whole year of -2000 B.C.E. ~ 0 B.C.\n",
    "To represent the epoch before the common era, I use the Julian date."
   ]
  },
  {
   "cell_type": "code",
   "execution_count": 23,
   "metadata": {},
   "outputs": [
    {
     "data": {
      "text/latex": [
       "$365.25 \\; \\mathrm{d}$"
      ],
      "text/plain": [
       "<Quantity 365.25 d>"
      ]
     },
     "execution_count": 23,
     "metadata": {},
     "output_type": "execute_result"
    }
   ],
   "source": [
    "# Check the relationship between the unit year and day\n",
    "x =1 * u.year\n",
    "x.to(u.day)"
   ]
  },
  {
   "cell_type": "code",
   "execution_count": 31,
   "metadata": {},
   "outputs": [
    {
     "name": "stderr",
     "output_type": "stream",
     "text": [
      "WARNING: ErfaWarning: ERFA function \"taiutc\" yielded 2000 of \"dubious year (Note 4)\" [astropy._erfa.core]\n",
      "WARNING: ErfaWarning: ERFA function \"d2dtf\" yielded 2000 of \"dubious year (Note 5)\" [astropy._erfa.core]\n"
     ]
    },
    {
     "data": {
      "text/plain": [
       "(<Time object: scale='utc' format='iso' value=['-1-03-06 18:00:32.000' '-2-03-06 12:00:32.000' '-3-03-06 06:00:32.000'\n",
       "  ... '-1998-02-19 12:00:32.000' '-1999-02-19 06:00:32.000'\n",
       "  '-2000-02-20 00:00:32.000']>,\n",
       " <Time object: scale='utc' format='iso' value=['-1-09-08 18:00:32.000' '-2-09-08 12:00:32.000' '-3-09-08 06:00:32.000'\n",
       "  ... '-1998-08-24 12:00:32.000' '-1999-08-24 06:00:32.000'\n",
       "  '-2000-08-24 00:00:32.000']>)"
      ]
     },
     "execution_count": 31,
     "metadata": {},
     "output_type": "execute_result"
    }
   ],
   "source": [
    "year_arr = np.arange(2001, 4001, 1) * u.year\n",
    "vernal_equinox = Time(\"2000-03-21 00:00:00\") - year_arr\n",
    "autumnal_equinox = Time(\"2000-09-23 00:00:00\") - year_arr\n",
    "vernal_equinox, autumnal_equinox"
   ]
  },
  {
   "cell_type": "raw",
   "metadata": {},
   "source": [
    "We can see that if we transformate the dates into UTC, they don't exactly respond to March 21 or September 23.\n",
    "This is normal since UTC is used only after 1960-01-01.\n",
    "In my opinion, this won't affect our results."
   ]
  },
  {
   "cell_type": "markdown",
   "metadata": {},
   "source": [
    "I counted the number of days of the vernal and autumnal equinox from the January 1.\n",
    "They are 80 and 266 days, respectively."
   ]
  },
  {
   "cell_type": "code",
   "execution_count": 44,
   "metadata": {},
   "outputs": [
    {
     "name": "stdout",
     "output_type": "stream",
     "text": [
      "80.0 266.0\n"
     ]
    }
   ],
   "source": [
    "day_num1 = Time(\"2000-03-21 00:00:00\") - Time(\"2000-01-01 00:00:00\")\n",
    "day_num2 = Time(\"2000-09-23 00:00:00\") - Time(\"2000-01-01 00:00:00\")\n",
    "print(day_num1, day_num2)"
   ]
  },
  {
   "cell_type": "markdown",
   "metadata": {},
   "source": [
    "I calculate the altitude and azimuth of Sun and Canopus among 4:00~8:00 in autumnal equinox and 16:00~20:00 in vernal equinox for every year."
   ]
  },
  {
   "cell_type": "code",
   "execution_count": 45,
   "metadata": {},
   "outputs": [
    {
     "name": "stderr",
     "output_type": "stream",
     "text": [
      "WARNING: ErfaWarning: ERFA function \"taiutc\" yielded 2000 of \"dubious year (Note 4)\" [astropy._erfa.core]\n",
      "WARNING: ErfaWarning: ERFA function \"utctai\" yielded 1 of \"dubious year (Note 3)\" [astropy._erfa.core]\n",
      "WARNING: ErfaWarning: ERFA function \"taiutc\" yielded 1 of \"dubious year (Note 4)\" [astropy._erfa.core]\n",
      "WARNING: ErfaWarning: ERFA function \"taiutc\" yielded 240 of \"dubious year (Note 4)\" [astropy._erfa.core]\n",
      "WARNING: ErfaWarning: ERFA function \"utctai\" yielded 240 of \"dubious year (Note 3)\" [astropy._erfa.core]\n",
      "WARNING: ErfaWarning: ERFA function \"epv00\" yielded 240 of \"warning: date outsidethe range 1900-2100 AD\" [astropy._erfa.core]\n",
      "WARNING: Tried to get polar motions for times before IERS data is valid. Defaulting to polar motion from the 50-yr mean for those. This may affect precision at the 10s of arcsec level [astropy.coordinates.builtin_frames.utils]\n",
      "WARNING: ErfaWarning: ERFA function \"apio13\" yielded 240 of \"dubious year (Note 2)\" [astropy._erfa.core]\n",
      "WARNING: ErfaWarning: ERFA function \"utctai\" yielded 240 of \"dubious year (Note 3)\" [astropy._erfa.core]\n",
      "WARNING: ErfaWarning: ERFA function \"taiutc\" yielded 240 of \"dubious year (Note 4)\" [astropy._erfa.core]\n",
      "WARNING: ErfaWarning: ERFA function \"epv00\" yielded 240 of \"warning: date outsidethe range 1900-2100 AD\" [astropy._erfa.core]\n",
      "WARNING: ErfaWarning: ERFA function \"utcut1\" yielded 240 of \"dubious year (Note 3)\" [astropy._erfa.core]\n",
      "WARNING: ErfaWarning: ERFA function \"utctai\" yielded 1 of \"dubious year (Note 3)\" [astropy._erfa.core]\n",
      "WARNING: ErfaWarning: ERFA function \"taiutc\" yielded 1 of \"dubious year (Note 4)\" [astropy._erfa.core]\n"
     ]
    }
   ],
   "source": [
    "# Beginning of every year\n",
    "year_arr = np.arange(2001, 4001, 1) * u.year\n",
    "obs_time = Time(\"2000-01-01 00:00:00\") - year_arr\n",
    "\n",
    "# Calculate the observable time of everyday\n",
    "beg_time1 = np.zeros_like(obs_time)\n",
    "end_time1 = np.zeros_like(obs_time)\n",
    "beg_time2 = np.zeros_like(obs_time)\n",
    "end_time2 = np.zeros_like(obs_time)\n",
    "\n",
    "for i, obs_timei in enumerate(obs_time):\n",
    "    utcoffset = +8 * u.hour  # Daylight Time\n",
    "    midnight = obs_timei - utcoffset\n",
    "\n",
    "    # Position of the Canopus with the proper motion correction at the beginning of the year.\n",
    "    # This effect is very small.\n",
    "    dt_epoch = obs_timei.jyear - 2000.0\n",
    "    ra = 95.98787790 * u.deg + 19.93 * u.mas * dt_epoch\n",
    "    dec = -52.69571787 * u.deg + 23.24 * u.mas * dt_epoch\n",
    "    hip30438 = SkyCoord(ra=ra, dec=dec, frame=\"icrs\")\n",
    "    \n",
    "    # In the morning\n",
    "    delta_midnight1 = np.arange(4, 8, 1./60) * u.hour\n",
    "    obser_time1 = midnight + delta_midnight1 + day_num1\n",
    "    local_frame1 = AltAz(obstime=obser_time1,\n",
    "                        location=taishan)\n",
    "    hip30438altazs1 = hip30438.transform_to(local_frame1)\n",
    "    \n",
    "    # position of Sun\n",
    "    from astropy.coordinates import get_sun\n",
    "    sunaltazs1 = get_sun(obser_time1).transform_to(local_frame1)\n",
    "    \n",
    "    mask = (sunaltazs1.alt < -0*u.deg) & (hip30438altazs1.alt > 0)\n",
    "    observable_time1 = delta_midnight1[mask]\n",
    "    # observable_time\n",
    "    if len(observable_time1):\n",
    "        beg_time1[i] = observable_time1.min().to('hr').value\n",
    "        end_time1[i] = observable_time1.max().to('hr').value\n",
    "        \n",
    "    # In the afternoon\n",
    "    delta_midnight2 = np.arange(16, 20, 1./60) * u.hour\n",
    "    obser_time2 = midnight + delta_midnight2 + day_num2\n",
    "    local_frame2 = AltAz(obstime=obser_time2,\n",
    "                        location=taishan)\n",
    "    \n",
    "    hip30438altazs2 = hip30438.transform_to(local_frame2)\n",
    "    \n",
    "    # position of Sun\n",
    "    from astropy.coordinates import get_sun\n",
    "    sunaltazs2 = get_sun(obser_time2).transform_to(local_frame2)\n",
    "    \n",
    "    mask = (sunaltazs2.alt < -0*u.deg) & (hip30438altazs2.alt > 0)\n",
    "    observable_time2 = delta_midnight2[mask]\n",
    "    # observable_time\n",
    "    if len(observable_time2):\n",
    "        beg_time2[i] = observable_time2.min().to('hr').value\n",
    "        end_time2[i] = observable_time2.max().to('hr').value    "
   ]
  },
  {
   "cell_type": "markdown",
   "metadata": {},
   "source": [
    "I assume that the Canopus can be observed by the local observer only when the observable duration in one day is longer than 10 minitues.\n",
    "With such an assumption, I determine the observable period of the Canopus."
   ]
  },
  {
   "cell_type": "code",
   "execution_count": 73,
   "metadata": {},
   "outputs": [],
   "source": [
    "# Observable duration\n",
    "obs_dur1 = end_time1 - beg_time1\n",
    "obs_dur2 = end_time2 - beg_time2\n",
    "\n",
    "# For Autumnal equinox\n",
    "# mask1 = (obs_dur1 >= 1./6)\n",
    "mask1 = (obs_dur1 >= 0)\n",
    "observable_date1 = obs_time[mask1]\n",
    "\n",
    "# For vernal equinox\n",
    "# mask2 = (obs_dur2 >= 1./6)\n",
    "mask2 = (obs_dur1 >= 0)\n",
    "observable_date2 = obs_time[mask2]"
   ]
  },
  {
   "cell_type": "raw",
   "metadata": {},
   "source": [
    "As a result, the observable epoch of Canupos in Vernal equinox begins from -400 B.C.E. and from -1400 B.C.E in autumnal equinox"
   ]
  },
  {
   "cell_type": "code",
   "execution_count": 86,
   "metadata": {},
   "outputs": [
    {
     "data": {
      "image/png": "[encoded data removed]",
      "text/plain": [
       "<Figure size 864x576 with 1 Axes>"
      ]
     },
     "metadata": {},
     "output_type": "display_data"
    }
   ],
   "source": [
    "fig, ax = plt.subplots(figsize=(12, 8))\n",
    "ax.plot(obs_time[mask1].jyear, obs_dur1[mask1],\n",
    "          \"b.\", ms=3, label=\"Autumnal\")\n",
    "ax.plot(obs_time[mask2].jyear, obs_dur2[mask2],\n",
    "          \"r.\", ms=3, label=\"Vernal\")\n",
    "\n",
    "ax.fill_between(obs_time.jyear, 0, 24,\n",
    "                 (obs_dur1 >= 1./6) & (obs_dur2 >= 1./6), color=\"0.8\", zorder=0)\n",
    "\n",
    "ax.set_xlabel(\"Year\", fontsize=15)\n",
    "ax.set_xlim([-2000, 0])\n",
    "ax.set_xticks(np.arange(-2000, 1, 100))\n",
    "\n",
    "ax.set_ylim([0, 2.0])\n",
    "ax.set_ylabel(\"Time (hour)\", fontsize=15)\n",
    "ax.set_title(\"Observable duration of Canopus among $-2000$ B.C.E and 0\")\n",
    "\n",
    "ax.legend(fontsize=15)\n",
    "\n",
    "fig.tight_layout()\n",
    "plt.savefig(\"-2000_0.eps\", dpi=100)\n",
    "plt.savefig(\"-2000_0.png\", dpi=100)"
   ]
  }
 ],
 "metadata": {
  "hide_input": false,
  "kernelspec": {
   "display_name": "Python 3",
   "language": "python",
   "name": "python3"
  },
  "language_info": {
   "codemirror_mode": {
    "name": "ipython",
    "version": 3
   },
   "file_extension": ".py",
   "mimetype": "text/x-python",
   "name": "python",
   "nbconvert_exporter": "python",
   "pygments_lexer": "ipython3",
   "version": "3.5.5"
  }
 },
 "nbformat": 4,
 "nbformat_minor": 2
}
