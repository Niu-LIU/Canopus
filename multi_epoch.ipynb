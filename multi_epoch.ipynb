{
 "cells": [
  {
   "cell_type": "raw",
   "metadata": {},
   "source": [
    "===================================================================\n",
    "\n",
    "Determine the observable time of the Canopus on the Vernal and Autumnal equinox among -2000 B.C.E. ~ 0 B.C."
   ]
  },
  {
   "cell_type": "code",
   "execution_count": 13,
   "metadata": {},
   "outputs": [],
   "source": [
    "%matplotlib inline\n",
    "import numpy as np\n",
    "import matplotlib.pyplot as plt\n",
    "from astropy.visualization import astropy_mpl_style\n",
    "plt.style.use(astropy_mpl_style)\n",
    "\n",
    "import astropy.units as u\n",
    "from astropy.time import Time\n",
    "from astropy.coordinates import SkyCoord, EarthLocation, AltAz, ICRS"
   ]
  },
  {
   "cell_type": "markdown",
   "metadata": {},
   "source": [
    "Assume we have an observer in Tai Mountain."
   ]
  },
  {
   "cell_type": "code",
   "execution_count": 14,
   "metadata": {},
   "outputs": [],
   "source": [
    "taishan = EarthLocation(lat=36.2*u.deg, lon=117.1*u.deg, height=1500*u.m)"
   ]
  },
  {
   "cell_type": "markdown",
   "metadata": {},
   "source": [
    "The observing period is the whole year of -2000 B.C.E. ~ 0 B.C."
   ]
  },
  {
   "cell_type": "code",
   "execution_count": 15,
   "metadata": {},
   "outputs": [
    {
     "name": "stderr",
     "output_type": "stream",
     "text": [
      "WARNING: ErfaWarning: ERFA function \"dtf2d\" yielded 1 of \"dubious year (Note 6)\" [astropy._erfa.core]\n",
      "WARNING: ErfaWarning: ERFA function \"utctai\" yielded 1 of \"dubious year (Note 3)\" [astropy._erfa.core]\n",
      "WARNING: ErfaWarning: ERFA function \"taiutc\" yielded 2000 of \"dubious year (Note 4)\" [astropy._erfa.core]\n",
      "WARNING: ErfaWarning: ERFA function \"d2dtf\" yielded 2000 of \"dubious year (Note 5)\" [astropy._erfa.core]\n"
     ]
    },
    {
     "data": {
      "text/plain": [
       "(<Time object: scale='utc' format='iso' value=['-1-03-21 00:00:00.000' '-2-03-21 00:00:00.000' '-3-03-21 00:00:00.000'\n",
       "  ... '-1998-03-21 00:00:00.000' '-1999-03-21 00:00:00.000'\n",
       "  '-2000-03-21 00:00:00.000']>,\n",
       " <Time object: scale='utc' format='iso' value=['-1-09-23 00:00:00.000' '-2-09-23 00:00:00.000' '-3-09-23 00:00:00.000'\n",
       "  ... '-1998-09-23 00:00:00.000' '-1999-09-23 00:00:00.000'\n",
       "  '-2000-09-23 00:00:00.000']>)"
      ]
     },
     "execution_count": 15,
     "metadata": {},
     "output_type": "execute_result"
    }
   ],
   "source": [
    "year_arr = np.arange(0, 2000, 1)\n",
    "\n",
    "# Number of days for every year\n",
    "date_nb = np.ones_like(year_arr)\n",
    "date_nb = np.where(year_arr % 4 == 0, 366, 365)\n",
    "date_nb = np.where((year_arr % 100 == 0) & (\n",
    "    year_arr % 400 != 0), 365, date_nb)\n",
    "\n",
    "total_date_nb = np.zeros_like(year_arr)\n",
    "for i in range(year_arr.size):\n",
    "    total_date_nb[i] = np.sum(date_nb[:i+1])\n",
    "    \n",
    "vernal_equinox = Time(\"0000-03-21 00:00:00\") - total_date_nb * u.day\n",
    "autumnal_equinox = Time(\"0000-09-23 00:00:00\") - total_date_nb * u.day\n",
    "vernal_equinox, autumnal_equinox"
   ]
  },
  {
   "cell_type": "raw",
   "metadata": {},
   "source": [
    "We can see that if we transformate the dates into UTC, they don't exactly respond to March 21 or September 23.\n",
    "This is normal since UTC is used only after 1960-01-01.\n",
    "In my opinion, this won't affect our results."
   ]
  },
  {
   "cell_type": "markdown",
   "metadata": {},
   "source": [
    "I calculate the altitude and azimuth of Sun and Canopus in autumnal equinox and in vernal equinox for every year."
   ]
  },
  {
   "cell_type": "code",
   "execution_count": 16,
   "metadata": {},
   "outputs": [
    {
     "name": "stderr",
     "output_type": "stream",
     "text": [
      "WARNING: ErfaWarning: ERFA function \"dtf2d\" yielded 1 of \"dubious year (Note 6)\" [astropy._erfa.core]\n",
      "WARNING: ErfaWarning: ERFA function \"utctai\" yielded 1 of \"dubious year (Note 3)\" [astropy._erfa.core]\n",
      "WARNING: ErfaWarning: ERFA function \"taiutc\" yielded 2000 of \"dubious year (Note 4)\" [astropy._erfa.core]\n",
      "WARNING: ErfaWarning: ERFA function \"taiutc\" yielded 1 of \"dubious year (Note 4)\" [astropy._erfa.core]\n",
      "WARNING: ErfaWarning: ERFA function \"taiutc\" yielded 720 of \"dubious year (Note 4)\" [astropy._erfa.core]\n",
      "WARNING: ErfaWarning: ERFA function \"utctai\" yielded 720 of \"dubious year (Note 3)\" [astropy._erfa.core]\n",
      "WARNING: ErfaWarning: ERFA function \"epv00\" yielded 720 of \"warning: date outsidethe range 1900-2100 AD\" [astropy._erfa.core]\n",
      "WARNING: Tried to get polar motions for times before IERS data is valid. Defaulting to polar motion from the 50-yr mean for those. This may affect precision at the 10s of arcsec level [astropy.coordinates.builtin_frames.utils]\n",
      "WARNING: ErfaWarning: ERFA function \"apio13\" yielded 720 of \"dubious year (Note 2)\" [astropy._erfa.core]\n",
      "WARNING: ErfaWarning: ERFA function \"utcut1\" yielded 720 of \"dubious year (Note 3)\" [astropy._erfa.core]\n"
     ]
    }
   ],
   "source": [
    "# For Vernal equinox\n",
    "year_arr = np.arange(0, 2000, 1)\n",
    "\n",
    "# Number of days for every year\n",
    "date_nb = np.ones_like(year_arr)\n",
    "date_nb = np.where(year_arr % 4 == 0, 366, 365)\n",
    "date_nb = np.where((year_arr % 100 == 0) & (\n",
    "    year_arr % 400 != 0), 365, date_nb)\n",
    "\n",
    "total_date_nb = np.zeros_like(year_arr)\n",
    "for i in range(year_arr.size):\n",
    "    total_date_nb[i] = np.sum(date_nb[:i+1])\n",
    "    \n",
    "vernal_equinox = Time(\"0000-03-21 00:00:00\") - total_date_nb * u.day\n",
    "\n",
    "# Calculate the observable time of everyday\n",
    "beg_time1 = np.zeros_like(vernal_equinox)\n",
    "end_time1 = np.zeros_like(vernal_equinox)\n",
    "\n",
    "for i, obs_timei in enumerate(vernal_equinox):\n",
    "    \n",
    "    # Calculate the midnight epoch in Bejing time\n",
    "    utcoffset = +8 * u.hour  # Beijing Daylight Time\n",
    "    midnight = obs_timei - utcoffset\n",
    "\n",
    "    # Position of the Canopus with the proper motion correction at the beginning of the year.\n",
    "    # This effect is very small.\n",
    "    dt_epoch = obs_timei.jyear - 2000.0\n",
    "    ra = 95.98787790 * u.deg + 19.93 * u.mas * dt_epoch\n",
    "    dec = -52.69571787 * u.deg + 23.24 * u.mas * dt_epoch\n",
    "    hip30438 = SkyCoord(ra=ra, dec=dec, frame=\"icrs\")\n",
    "    \n",
    "    delta_midnight = np.arange(0, 24, 1./30) * u.hour\n",
    "    # Vernal\n",
    "    obser_time1 = midnight + delta_midnight\n",
    "    local_frame1 = AltAz(obstime=obser_time1,\n",
    "                        location=taishan)\n",
    "    hip30438altazs1 = hip30438.transform_to(local_frame1)\n",
    "    \n",
    "    # position of Sun\n",
    "    from astropy.coordinates import get_sun\n",
    "    sunaltazs1 = get_sun(obser_time1).transform_to(local_frame1)\n",
    "    \n",
    "    mask = (sunaltazs1.alt < -0*u.deg) & (hip30438altazs1.alt > 0)\n",
    "    observable_time1 = delta_midnight[mask]\n",
    "    # observable_time\n",
    "    if len(observable_time1):\n",
    "        beg_time1[i] = observable_time1.min().to(\"hr\").value\n",
    "        end_time1[i] = observable_time1.max().to(\"hr\").value  "
   ]
  },
  {
   "cell_type": "code",
   "execution_count": 17,
   "metadata": {},
   "outputs": [
    {
     "name": "stderr",
     "output_type": "stream",
     "text": [
      "WARNING: ErfaWarning: ERFA function \"dtf2d\" yielded 1 of \"dubious year (Note 6)\" [astropy._erfa.core]\n",
      "WARNING: ErfaWarning: ERFA function \"utctai\" yielded 1 of \"dubious year (Note 3)\" [astropy._erfa.core]\n",
      "WARNING: ErfaWarning: ERFA function \"taiutc\" yielded 2000 of \"dubious year (Note 4)\" [astropy._erfa.core]\n",
      "WARNING: ErfaWarning: ERFA function \"taiutc\" yielded 1 of \"dubious year (Note 4)\" [astropy._erfa.core]\n",
      "WARNING: ErfaWarning: ERFA function \"taiutc\" yielded 1440 of \"dubious year (Note 4)\" [astropy._erfa.core]\n",
      "WARNING: ErfaWarning: ERFA function \"utctai\" yielded 1440 of \"dubious year (Note 3)\" [astropy._erfa.core]\n",
      "WARNING: ErfaWarning: ERFA function \"epv00\" yielded 1440 of \"warning: date outsidethe range 1900-2100 AD\" [astropy._erfa.core]\n",
      "WARNING: Tried to get polar motions for times before IERS data is valid. Defaulting to polar motion from the 50-yr mean for those. This may affect precision at the 10s of arcsec level [astropy.coordinates.builtin_frames.utils]\n",
      "WARNING: ErfaWarning: ERFA function \"apio13\" yielded 1440 of \"dubious year (Note 2)\" [astropy._erfa.core]\n",
      "WARNING: ErfaWarning: ERFA function \"utcut1\" yielded 1440 of \"dubious year (Note 3)\" [astropy._erfa.core]\n"
     ]
    }
   ],
   "source": [
    "year_arr = np.arange(0, 2000, 1)\n",
    "\n",
    "# Number of days for every year\n",
    "date_nb = np.ones_like(year_arr)\n",
    "date_nb = np.where(year_arr % 4 == 0, 366, 365)\n",
    "date_nb = np.where((year_arr % 100 == 0) & (\n",
    "    year_arr % 400 != 0), 365, date_nb)\n",
    "\n",
    "total_date_nb = np.zeros_like(year_arr)\n",
    "for i in range(year_arr.size):\n",
    "    total_date_nb[i] = np.sum(date_nb[:i+1])\n",
    "    \n",
    "autumnal_equinox = Time(\"0000-09-23 00:00:00\") - total_date_nb * u.day\n",
    "\n",
    "# Calculate the observable time of everyday\n",
    "beg_time2 = np.zeros_like(autumnal_equinox)\n",
    "end_time2 = np.zeros_like(autumnal_equinox)\n",
    "\n",
    "for i, obs_timei in enumerate(autumnal_equinox):\n",
    "    utcoffset = +8 * u.hour  # Daylight Time\n",
    "    midnight = obs_timei - utcoffset\n",
    "\n",
    "    # Position of the Canopus with the proper motion correction at the beginning of the year.\n",
    "    # This effect is very small.\n",
    "    dt_epoch = obs_timei.jyear - 2000.0\n",
    "    ra = 95.98787790 * u.deg + 19.93 * u.mas * dt_epoch\n",
    "    dec = -52.69571787 * u.deg + 23.24 * u.mas * dt_epoch\n",
    "    hip30438 = SkyCoord(ra=ra, dec=dec, frame=\"icrs\")\n",
    "    \n",
    "    delta_midnight = np.arange(0, 24, 1./60) * u.hour\n",
    "        \n",
    "    # Autumnal\n",
    "    obser_time2 = midnight + delta_midnight\n",
    "    local_frame2 = AltAz(obstime=obser_time2,\n",
    "                        location=taishan)\n",
    "    \n",
    "    hip30438altazs2 = hip30438.transform_to(local_frame2)\n",
    "    \n",
    "    # position of Sun\n",
    "    from astropy.coordinates import get_sun\n",
    "    sunaltazs2 = get_sun(obser_time2).transform_to(local_frame2)\n",
    "    \n",
    "    mask = (sunaltazs2.alt < -0*u.deg) & (hip30438altazs2.alt > 0)\n",
    "    observable_time2 = delta_midnight[mask]\n",
    "    # observable_time\n",
    "    if len(observable_time2):\n",
    "        beg_time2[i] = observable_time2.min().to(\"hr\").value\n",
    "        end_time2[i] = observable_time2.max().to(\"hr\").value    "
   ]
  },
  {
   "cell_type": "markdown",
   "metadata": {},
   "source": [
    "I assume that the Canopus can be observed by the local observer only when the observable duration in one day is longer than 10 minitues.\n",
    "With such an assumption, I determine the observable period of the Canopus."
   ]
  },
  {
   "cell_type": "code",
   "execution_count": 25,
   "metadata": {},
   "outputs": [],
   "source": [
    "# Observable duration\n",
    "obs_dur1 = end_time1 - beg_time1\n",
    "obs_dur2 = end_time2 - beg_time2\n",
    "\n",
    "# For vernal equinox\n",
    "# mask1 = (obs_dur1 >= 1./6)\n",
    "mask1 = (obs_dur1 >= 1./60)\n",
    "observable_date1 = autumnal_equinox[mask1]\n",
    "\n",
    "# For Autumnal equinox\n",
    "# mask2 = (obs_dur2 >= 1./6)\n",
    "mask2 = (obs_dur2 >= 1./60)\n",
    "observable_date2 = autumnal_equinox[mask2]\n",
    "\n",
    "# Save data\n",
    "np.save(\"multi_epoch_output\",\n",
    "        [autumnal_equinox.jyear, beg_time1, end_time1, obs_dur1, beg_time2, end_time2, obs_dur2])"
   ]
  },
  {
   "cell_type": "raw",
   "metadata": {},
   "source": [
    "As a result, the observable epoch of Canupos in Vernal equinox begins from -400 B.C.E. and from -1400 B.C.E in autumnal equinox"
   ]
  },
  {
   "cell_type": "code",
   "execution_count": 28,
   "metadata": {},
   "outputs": [
    {
     "data": {
      "image/png": "[encoded data removed]",
      "text/plain": [
       "<Figure size 864x576 with 1 Axes>"
      ]
     },
     "metadata": {},
     "output_type": "display_data"
    }
   ],
   "source": [
    "fig, ax = plt.subplots(figsize=(12, 8))\n",
    "ax.plot(observable_date1.jyear, obs_dur1[mask1],\n",
    "          \"b.\", ms=2, label=\"Vernal\")\n",
    "ax.plot(observable_date2.jyear, obs_dur2[mask2],\n",
    "          \"r.\", ms=2, label=\"Autumnal\")\n",
    "\n",
    "# ax.plot(autumnal_equinox.jyear, obs_dur1,\n",
    "#           \"b.\", ms=3, label=\"Vernal\")\n",
    "# ax.plot(autumnal_equinox.jyear, obs_dur2,\n",
    "#           \"r.\", ms=3, label=\"Autumnal\")\n",
    "\n",
    "ax.fill_between(autumnal_equinox.jyear, 0, 24,\n",
    "                 (obs_dur1 >= 1./6) & (obs_dur2 >= 1./6), color=\"0.8\", zorder=0)\n",
    "\n",
    "ax.set_xlabel(\"Year\", fontsize=15)\n",
    "ax.set_xlim([-2000, 0])\n",
    "ax.set_xticks(np.arange(-2000, 1, 100))\n",
    "\n",
    "ax.set_ylim([0, 2.0])\n",
    "ax.set_ylabel(\"Time (hour)\", fontsize=15)\n",
    "ax.set_title(\"Observable duration of Canopus among $-2000$ B.C.E and 0\")\n",
    "\n",
    "ax.legend(fontsize=15)\n",
    "\n",
    "fig.tight_layout()\n",
    "plt.savefig(\"muilti_epoch.eps\", dpi=100)\n",
    "plt.savefig(\"muilti_epoch.png\", dpi=100)"
   ]
  }
 ],
 "metadata": {
  "hide_input": false,
  "kernelspec": {
   "display_name": "Python 3",
   "language": "python",
   "name": "python3"
  },
  "language_info": {
   "codemirror_mode": {
    "name": "ipython",
    "version": 3
   },
   "file_extension": ".py",
   "mimetype": "text/x-python",
   "name": "python",
   "nbconvert_exporter": "python",
   "pygments_lexer": "ipython3",
   "version": "3.5.5"
  }
 },
 "nbformat": 4,
 "nbformat_minor": 2
}
