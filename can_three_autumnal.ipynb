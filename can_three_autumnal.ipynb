{
 "cells": [
  {
   "cell_type": "code",
   "execution_count": 1,
   "metadata": {},
   "outputs": [],
   "source": [
    "%matplotlib inline\n",
    "import numpy as np\n",
    "import matplotlib.pyplot as plt\n",
    "from astropy.visualization import astropy_mpl_style\n",
    "plt.style.use(astropy_mpl_style)\n",
    "\n",
    "import astropy.units as u\n",
    "from astropy.time import Time\n",
    "from astropy.coordinates import SkyCoord, EarthLocation, AltAz, ICRS"
   ]
  },
  {
   "cell_type": "code",
   "execution_count": 2,
   "metadata": {},
   "outputs": [],
   "source": [
    "# Input the position and proper motion information of the Canopus from Hiparcus\n",
    "hip30438 = SkyCoord(ra=95.98787790*u.deg, dec=-52.69571787*u.deg,\n",
    "                    frame=\"icrs\")"
   ]
  },
  {
   "cell_type": "code",
   "execution_count": 3,
   "metadata": {},
   "outputs": [],
   "source": [
    "shangqiu = EarthLocation(lat=36.2*u.deg, lon=117.1*u.deg, height=1500*u.m)\n",
    "utcoffset = + 8*u.hour  # Daylight Time\n",
    "time = Time(\"2018-9-22 23:00:00\") - utcoffset"
   ]
  },
  {
   "cell_type": "code",
   "execution_count": 4,
   "metadata": {},
   "outputs": [
    {
     "name": "stdout",
     "output_type": "stream",
     "text": [
      "HIP 30438's Altitude = -4.1e+01 deg\n"
     ]
    }
   ],
   "source": [
    "# Canopus\n",
    "hip30438altaz = hip30438.transform_to(AltAz(obstime=time, location=shangqiu))\n",
    "print(\"HIP 30438's Altitude = {0.alt:.2}\".format(hip30438altaz))"
   ]
  },
  {
   "cell_type": "code",
   "execution_count": 5,
   "metadata": {},
   "outputs": [
    {
     "name": "stdout",
     "output_type": "stream",
     "text": [
      "<SkyCoord (ICRS): (ra, dec) in deg\n",
      "    (85.18969443, -1.94257359)> <SkyCoord (ICRS): (ra, dec) in deg\n",
      "    (84.05338894, -1.20191914)> <SkyCoord (ICRS): (ra, dec) in deg\n",
      "    (83.00166706, -0.29909511)>\n"
     ]
    }
   ],
   "source": [
    "# Can I\n",
    "hip26727 = SkyCoord.from_name(\"HIP 26727\")\n",
    "\n",
    "# Can II\n",
    "hip26311 = SkyCoord.from_name(\"HIP 26311\")\n",
    "\n",
    "# Can II\n",
    "hip25930 = SkyCoord.from_name(\"HIP 25930\")\n",
    "\n",
    "print(hip26727, hip26311, hip25930)"
   ]
  },
  {
   "cell_type": "code",
   "execution_count": 6,
   "metadata": {},
   "outputs": [],
   "source": [
    "midnight = Time(\"2018-9-23 00:00:00\") - utcoffset\n",
    "delta_midnight = np.linspace(-2, 10, 100) * u.hour\n",
    "frame_Sep23 = AltAz(obstime=midnight + delta_midnight,\n",
    "                          location=shangqiu)\n",
    "m33altazs_Sep23 = hip30438.transform_to(frame_Sep23)"
   ]
  },
  {
   "cell_type": "code",
   "execution_count": 7,
   "metadata": {},
   "outputs": [],
   "source": [
    "from astropy.coordinates import get_sun\n",
    "delta_midnight = np.linspace(-12, 12, 1000)*u.hour\n",
    "times_Sep23_to_24 = midnight + delta_midnight\n",
    "frame_Sep23_to_24 = AltAz(obstime=times_Sep23_to_24, location=shangqiu)\n",
    "sunaltazs_Sep23_to_24 = get_sun(times_Sep23_to_24).transform_to(frame_Sep23_to_24)"
   ]
  },
  {
   "cell_type": "code",
   "execution_count": 8,
   "metadata": {},
   "outputs": [],
   "source": [
    "hip30438altazs_Sep23_to_24 = hip30438.transform_to(frame_Sep23_to_24)\n",
    "\n",
    "hip26727altazs_Sep23_to_24 = hip26727.transform_to(frame_Sep23_to_24)\n",
    "hip26311altazs_Sep23_to_24 = hip26311.transform_to(frame_Sep23_to_24)\n",
    "hip25930altazs_Sep23_to_24 = hip25930.transform_to(frame_Sep23_to_24)\n"
   ]
  },
  {
   "cell_type": "code",
   "execution_count": 9,
   "metadata": {},
   "outputs": [
    {
     "data": {
      "image/png": "[encoded data removed]",
      "text/plain": [
       "<Figure size 720x576 with 1 Axes>"
      ]
     },
     "metadata": {},
     "output_type": "display_data"
    }
   ],
   "source": [
    "plt.figure(figsize=(10, 8))\n",
    "plt.plot(delta_midnight, sunaltazs_Sep23_to_24.alt, color=\"r\", label=\"Sun\")\n",
    "plt.scatter(delta_midnight, hip30438altazs_Sep23_to_24.alt,\n",
    "            label=\"Canopus\", lw=0, s=8, color=\"m\")\n",
    "\n",
    "plt.scatter(delta_midnight, hip26727altazs_Sep23_to_24.alt,\n",
    "            label=\"Can I\", lw=0, s=8, color=\"b\")\n",
    "plt.scatter(delta_midnight, hip26311altazs_Sep23_to_24.alt,\n",
    "            label=\"Can II\", lw=0, s=8, color=\"y\")\n",
    "plt.scatter(delta_midnight, hip25930altazs_Sep23_to_24.alt,\n",
    "            label=\"Can III\", lw=0, s=8, color=\"g\")\n",
    "\n",
    "plt.fill_between(delta_midnight.to('hr').value, 0, 90,\n",
    "                 sunaltazs_Sep23_to_24.alt < -0*u.deg, color=\"0.5\", zorder=0)\n",
    "plt.fill_between(delta_midnight.to('hr').value, 0, 90,\n",
    "                 sunaltazs_Sep23_to_24.alt < -18*u.deg, color=\"k\", zorder=0)\n",
    "\n",
    "plt.fill_between(delta_midnight.to('hr').value, 0, 90,\n",
    "                 (179.5*u.deg < hip26727altazs_Sep23_to_24.az) & \n",
    "                 (hip26727altazs_Sep23_to_24.az < 180.5*u.deg), \n",
    "                 color=\"b\", zorder=0)\n",
    "plt.fill_between(delta_midnight.to('hr').value, 0, 90,\n",
    "                 (179.5*u.deg < hip26311altazs_Sep23_to_24.az) & \n",
    "                 (hip26311altazs_Sep23_to_24.az < 180.5*u.deg), \n",
    "                 color=\"y\", zorder=0)\n",
    "plt.fill_between(delta_midnight.to('hr').value, 0, 90,\n",
    "                 (179.5*u.deg < hip25930altazs_Sep23_to_24.az) & \n",
    "                 (hip25930altazs_Sep23_to_24.az < 180.5*u.deg), \n",
    "                 color=\"g\", zorder=0)\n",
    "\n",
    "\n",
    "plt.legend(loc='upper left')\n",
    "plt.xlim(-8, 8)\n",
    "plt.xticks(np.arange(-8, 9, 2))\n",
    "plt.ylim(0, 60)\n",
    "plt.xlabel('Hours from Midnigt (2018-09-23)')\n",
    "plt.ylabel('Altitude [deg]')\n",
    "plt.savefig(\"/Users/Neo/Desktop/can_three_autumnal.png\", dpi=100)\n",
    "plt.savefig(\"can_three_autumnal.png\", dpi=100)"
   ]
  }
 ],
 "metadata": {
  "hide_input": false,
  "kernelspec": {
   "display_name": "Python 3",
   "language": "python",
   "name": "python3"
  },
  "language_info": {
   "codemirror_mode": {
    "name": "ipython",
    "version": 3
   },
   "file_extension": ".py",
   "mimetype": "text/x-python",
   "name": "python",
   "nbconvert_exporter": "python",
   "pygments_lexer": "ipython3",
   "version": "3.5.5"
  }
 },
 "nbformat": 4,
 "nbformat_minor": 2
}
