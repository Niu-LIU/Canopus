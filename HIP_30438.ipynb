{
 "cells": [
  {
   "cell_type": "markdown",
   "metadata": {},
   "source": [
    "===================================================================\n",
    "\n",
    "Determining and plotting the altitude/azimuth of the Canopus and Sun\n",
    "\n",
    "In this notebook I an going to calculate the altitude/azimuth of the Canopus and Sun \n",
    "seen from an observer in Tai Mountain from -3000BC to 2000AD.\n",
    "\n",
    "The main procedures are listed as follow:\n",
    "(1) Calculate the time-dependent position of the Canopus in the ICRF2, using the position \n",
    "    and proper motion data in Hipparcus catalog (Hipparcos, the New Reduction (van Leeuwen, 2007) );\n",
    "(2) Calculate the tim\n",
    "e-dependent position of the Sun in the ICRF2, using the ephemeris DE431;\n",
    "(3) Calculate the transformation metrix between ICRF2 and ITRF, only considering the effect of Precession;\n",
    "(4) Determine the altitude/azimuth of the Canopus and Sun"
   ]
  },
  {
   "cell_type": "code",
   "execution_count": 1,
   "metadata": {},
   "outputs": [],
   "source": [
    "%matplotlib inline\n",
    "import numpy as np\n",
    "import matplotlib.pyplot as plt\n",
    "from astropy.visualization import astropy_mpl_style\n",
    "plt.style.use(astropy_mpl_style)\n",
    "\n",
    "import astropy.units as u\n",
    "from astropy.time import Time\n",
    "from astropy.coordinates import SkyCoord, EarthLocation, AltAz, ICRS"
   ]
  },
  {
   "cell_type": "code",
   "execution_count": 2,
   "metadata": {},
   "outputs": [
    {
     "name": "stdout",
     "output_type": "stream",
     "text": [
      "J2000.000\n"
     ]
    }
   ],
   "source": [
    "# Time system\n",
    "time0 = Time(\"J2000.0\")\n",
    "print(time0.utc)"
   ]
  },
  {
   "cell_type": "code",
   "execution_count": 3,
   "metadata": {},
   "outputs": [],
   "source": [
    "# Input the position and proper motion information of the Canopus from Hiparcus\n",
    "hip30438 = SkyCoord(ra=95.98787790*u.deg, dec=-52.69571787*u.deg,\n",
    "                    frame=\"icrs\")"
   ]
  },
  {
   "cell_type": "code",
   "execution_count": 4,
   "metadata": {},
   "outputs": [],
   "source": [
    "shangqiu = EarthLocation(lat=36.2*u.deg, lon=117.1*u.deg, height=1500*u.m)\n",
    "utcoffset = + 8*u.hour  # Daylight Time\n",
    "time = Time(\"2018-9-22 23:00:00\") - utcoffset"
   ]
  },
  {
   "cell_type": "code",
   "execution_count": 5,
   "metadata": {},
   "outputs": [
    {
     "name": "stdout",
     "output_type": "stream",
     "text": [
      "HIP 30438's Altitude = -4.1e+01 deg\n"
     ]
    }
   ],
   "source": [
    "hip30438altaz = hip30438.transform_to(AltAz(obstime=time, location=shangqiu))\n",
    "print(\"HIP 30438's Altitude = {0.alt:.2}\".format(hip30438altaz))"
   ]
  },
  {
   "cell_type": "code",
   "execution_count": 6,
   "metadata": {},
   "outputs": [],
   "source": [
    "midnight = Time(\"2018-9-23 00:00:00\") - utcoffset\n",
    "delta_midnight = np.linspace(-2, 10, 100) * u.hour\n",
    "frame_July13night = AltAz(obstime=midnight + delta_midnight,\n",
    "                          location=shangqiu)\n",
    "m33altazs_July13night = hip30438.transform_to(frame_July13night)"
   ]
  },
  {
   "cell_type": "code",
   "execution_count": 7,
   "metadata": {},
   "outputs": [],
   "source": [
    "m33airmasss_July13night = m33altazs_July13night.secz"
   ]
  },
  {
   "cell_type": "code",
   "execution_count": 8,
   "metadata": {},
   "outputs": [],
   "source": [
    "from astropy.coordinates import get_sun\n",
    "delta_midnight = np.linspace(-12, 12, 1000)*u.hour\n",
    "times_July12_to_13 = midnight + delta_midnight\n",
    "frame_July12_to_13 = AltAz(obstime=times_July12_to_13, location=shangqiu)\n",
    "sunaltazs_July12_to_13 = get_sun(times_July12_to_13).transform_to(frame_July12_to_13)"
   ]
  },
  {
   "cell_type": "code",
   "execution_count": 9,
   "metadata": {},
   "outputs": [],
   "source": [
    "hip30438altazs_July12_to_13 = hip30438.transform_to(frame_July12_to_13)"
   ]
  },
  {
   "cell_type": "code",
   "execution_count": 10,
   "metadata": {},
   "outputs": [
    {
     "data": {
      "text/plain": [
       "Text(0,0.5,'Altitude [deg]')"
      ]
     },
     "execution_count": 10,
     "metadata": {},
     "output_type": "execute_result"
    },
    {
     "data": {
      "image/png": "[encoded data removed]",
      "text/plain": [
       "<Figure size 432x288 with 1 Axes>"
      ]
     },
     "metadata": {},
     "output_type": "display_data"
    }
   ],
   "source": [
    "plt.plot(delta_midnight, sunaltazs_July12_to_13.alt, color='r', label='Sun')\n",
    "plt.scatter(delta_midnight, hip30438altazs_July12_to_13.alt,\n",
    "            label='Canopus', lw=0, s=8)\n",
    "plt.fill_between(delta_midnight.to('hr').value, 0, 90,\n",
    "                 sunaltazs_July12_to_13.alt < -0*u.deg, color='0.5', zorder=0)\n",
    "plt.fill_between(delta_midnight.to('hr').value, 0, 90,\n",
    "                 sunaltazs_July12_to_13.alt < -18*u.deg, color='k', zorder=0)\n",
    "plt.legend(loc='upper left')\n",
    "plt.xlim(-12, 12)\n",
    "plt.xticks(np.arange(13)*2 -12)\n",
    "plt.ylim(0, 90)\n",
    "plt.xlabel('Hours from Midnigt (2018-09-23)')\n",
    "plt.ylabel('Altitude [deg]')\n",
    "# plt.savefig(\"/Users/Neo/Desktop/temp1.png\", dpi=100)"
   ]
  },
  {
   "cell_type": "code",
   "execution_count": 21,
   "metadata": {},
   "outputs": [
    {
     "name": "stdout",
     "output_type": "stream",
     "text": [
      "5.417417417417418 h 6.0660660660660675 h\n",
      "0.6486486486486491 h\n"
     ]
    }
   ],
   "source": [
    "mask = (sunaltazs_July12_to_13.alt < -0*u.deg) & (hip30438altazs_July12_to_13.alt>0)\n",
    "observable_time = delta_midnight[mask]\n",
    "# observable_time\n",
    "beg_time, end_time = observable_time.min(), observable_time.max()\n",
    "print(beg_time, end_time)\n",
    "print(end_time - beg_time)"
   ]
  }
 ],
 "metadata": {
  "hide_input": false,
  "kernelspec": {
   "display_name": "Python 3",
   "language": "python",
   "name": "python3"
  },
  "language_info": {
   "codemirror_mode": {
    "name": "ipython",
    "version": 3
   },
   "file_extension": ".py",
   "mimetype": "text/x-python",
   "name": "python",
   "nbconvert_exporter": "python",
   "pygments_lexer": "ipython3",
   "version": "3.5.5"
  }
 },
 "nbformat": 4,
 "nbformat_minor": 2
}
