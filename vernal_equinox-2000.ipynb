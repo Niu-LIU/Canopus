{
 "cells": [
  {
   "cell_type": "markdown",
   "metadata": {},
   "source": [
    "Determine the observable time of the Canopus on 1900-3-21 (Vernal equinox).\n",
    "\n",
    "Note: The proper motion of the Canopus was not considered."
   ]
  },
  {
   "cell_type": "code",
   "execution_count": 3,
   "metadata": {},
   "outputs": [],
   "source": [
    "%matplotlib inline\n",
    "import numpy as np\n",
    "import matplotlib.pyplot as plt\n",
    "from astropy.visualization import astropy_mpl_style\n",
    "plt.style.use(astropy_mpl_style)\n",
    "\n",
    "import astropy.units as u\n",
    "from astropy.time import Time\n",
    "from astropy.coordinates import SkyCoord, EarthLocation, AltAz"
   ]
  },
  {
   "cell_type": "raw",
   "metadata": {},
   "source": [
    "Read the position of the Canopus (also named HIP 30438)"
   ]
  },
  {
   "cell_type": "code",
   "execution_count": 4,
   "metadata": {},
   "outputs": [],
   "source": [
    "hip30438 = SkyCoord.from_name(\"HIP 30438\")"
   ]
  },
  {
   "cell_type": "raw",
   "metadata": {},
   "source": [
    "Local observing position and time zone."
   ]
  },
  {
   "cell_type": "code",
   "execution_count": 5,
   "metadata": {},
   "outputs": [
    {
     "name": "stderr",
     "output_type": "stream",
     "text": [
      "WARNING: ErfaWarning: ERFA function \"dtf2d\" yielded 1 of \"dubious year (Note 6)\" [astropy._erfa.core]\n",
      "WARNING: ErfaWarning: ERFA function \"utctai\" yielded 1 of \"dubious year (Note 3)\" [astropy._erfa.core]\n",
      "WARNING: ErfaWarning: ERFA function \"taiutc\" yielded 1 of \"dubious year (Note 4)\" [astropy._erfa.core]\n"
     ]
    }
   ],
   "source": [
    "taishan = EarthLocation(lat=36.2*u.deg, lon=117.1*u.deg, height=1500*u.m)\n",
    "utcoffset = +8 * u.hour  # Daylight Time\n",
    "midnight = Time(\"1900-3-20 12:00:00\") - utcoffset"
   ]
  },
  {
   "cell_type": "raw",
   "metadata": {},
   "source": [
    "Position of Sun at the observing time."
   ]
  },
  {
   "cell_type": "code",
   "execution_count": 6,
   "metadata": {},
   "outputs": [
    {
     "name": "stderr",
     "output_type": "stream",
     "text": [
      "WARNING: ErfaWarning: ERFA function \"utctai\" yielded 1 of \"dubious year (Note 3)\" [astropy._erfa.core]\n",
      "WARNING: ErfaWarning: ERFA function \"taiutc\" yielded 1000 of \"dubious year (Note 4)\" [astropy._erfa.core]\n",
      "WARNING: ErfaWarning: ERFA function \"utctai\" yielded 1000 of \"dubious year (Note 3)\" [astropy._erfa.core]\n",
      "WARNING: Tried to get polar motions for times before IERS data is valid. Defaulting to polar motion from the 50-yr mean for those. This may affect precision at the 10s of arcsec level [astropy.coordinates.builtin_frames.utils]\n",
      "WARNING: ErfaWarning: ERFA function \"utcut1\" yielded 1000 of \"dubious year (Note 3)\" [astropy._erfa.core]\n",
      "WARNING: ErfaWarning: ERFA function \"apio13\" yielded 1000 of \"dubious year (Note 2)\" [astropy._erfa.core]\n",
      "WARNING: ErfaWarning: ERFA function \"utctai\" yielded 1000 of \"dubious year (Note 3)\" [astropy._erfa.core]\n"
     ]
    }
   ],
   "source": [
    "from astropy.coordinates import get_sun\n",
    "delta_midnight = np.linspace(-12, 12, 1000) * u.hour\n",
    "times_Mar20_to_21 = midnight + delta_midnight\n",
    "frame_Mar20_to_21 = AltAz(obstime=times_Mar20_to_21, location=taishan)\n",
    "sunaltazs_Mar20_to_21 = get_sun(times_Mar20_to_21).transform_to(frame_Mar20_to_21)"
   ]
  },
  {
   "cell_type": "code",
   "execution_count": 7,
   "metadata": {},
   "outputs": [
    {
     "data": {
      "text/latex": [
       "$[-12,~-11.975976,~-11.951952,~\\dots,~11.951952,~11.975976,~12] \\; \\mathrm{h}$"
      ],
      "text/plain": [
       "<Quantity [-12.        , -11.97597598, -11.95195195, -11.92792793,\n",
       "           -11.9039039 , -11.87987988, -11.85585586, -11.83183183,\n",
       "           -11.80780781, -11.78378378, -11.75975976, -11.73573574,\n",
       "           -11.71171171, -11.68768769, -11.66366366, -11.63963964,\n",
       "           -11.61561562, -11.59159159, -11.56756757, -11.54354354,\n",
       "           -11.51951952, -11.4954955 , -11.47147147, -11.44744745,\n",
       "           -11.42342342, -11.3993994 , -11.37537538, -11.35135135,\n",
       "           -11.32732733, -11.3033033 , -11.27927928, -11.25525526,\n",
       "           -11.23123123, -11.20720721, -11.18318318, -11.15915916,\n",
       "           -11.13513514, -11.11111111, -11.08708709, -11.06306306,\n",
       "           -11.03903904, -11.01501502, -10.99099099, -10.96696697,\n",
       "           -10.94294294, -10.91891892, -10.89489489, -10.87087087,\n",
       "           -10.84684685, -10.82282282, -10.7987988 , -10.77477477,\n",
       "           -10.75075075, -10.72672673, -10.7027027 , -10.67867868,\n",
       "           -10.65465465, -10.63063063, -10.60660661, -10.58258258,\n",
       "           -10.55855856, -10.53453453, -10.51051051, -10.48648649,\n",
       "           -10.46246246, -10.43843844, -10.41441441, -10.39039039,\n",
       "           -10.36636637, -10.34234234, -10.31831832, -10.29429429,\n",
       "           -10.27027027, -10.24624625, -10.22222222, -10.1981982 ,\n",
       "           -10.17417417, -10.15015015, -10.12612613, -10.1021021 ,\n",
       "           -10.07807808, -10.05405405, -10.03003003, -10.00600601,\n",
       "            -9.98198198,  -9.95795796,  -9.93393393,  -9.90990991,\n",
       "            -9.88588589,  -9.86186186,  -9.83783784,  -9.81381381,\n",
       "            -9.78978979,  -9.76576577,  -9.74174174,  -9.71771772,\n",
       "            -9.69369369,  -9.66966967,  -9.64564565,  -9.62162162,\n",
       "            -9.5975976 ,  -9.57357357,  -9.54954955,  -9.52552553,\n",
       "            -9.5015015 ,  -9.47747748,  -9.45345345,  -9.42942943,\n",
       "            -9.40540541,  -9.38138138,  -9.35735736,  -9.33333333,\n",
       "            -9.30930931,  -9.28528529,  -9.26126126,  -9.23723724,\n",
       "            -9.21321321,  -9.18918919,  -9.16516517,  -9.14114114,\n",
       "            -9.11711712,  -9.09309309,  -9.06906907,  -9.04504505,\n",
       "            -9.02102102,  -8.996997  ,  -8.97297297,  -8.94894895,\n",
       "            -8.92492492,  -8.9009009 ,  -8.87687688,  -8.85285285,\n",
       "            -8.82882883,  -8.8048048 ,  -8.78078078,  -8.75675676,\n",
       "            -8.73273273,  -8.70870871,  -8.68468468,  -8.66066066,\n",
       "            -8.63663664,  -8.61261261,  -8.58858859,  -8.56456456,\n",
       "            -8.54054054,  -8.51651652,  -8.49249249,  -8.46846847,\n",
       "            -8.44444444,  -8.42042042,  -8.3963964 ,  -8.37237237,\n",
       "            -8.34834835,  -8.32432432,  -8.3003003 ,  -8.27627628,\n",
       "            -8.25225225,  -8.22822823,  -8.2042042 ,  -8.18018018,\n",
       "            -8.15615616,  -8.13213213,  -8.10810811,  -8.08408408,\n",
       "            -8.06006006,  -8.03603604,  -8.01201201,  -7.98798799,\n",
       "            -7.96396396,  -7.93993994,  -7.91591592,  -7.89189189,\n",
       "            -7.86786787,  -7.84384384,  -7.81981982,  -7.7957958 ,\n",
       "            -7.77177177,  -7.74774775,  -7.72372372,  -7.6996997 ,\n",
       "            -7.67567568,  -7.65165165,  -7.62762763,  -7.6036036 ,\n",
       "            -7.57957958,  -7.55555556,  -7.53153153,  -7.50750751,\n",
       "            -7.48348348,  -7.45945946,  -7.43543544,  -7.41141141,\n",
       "            -7.38738739,  -7.36336336,  -7.33933934,  -7.31531532,\n",
       "            -7.29129129,  -7.26726727,  -7.24324324,  -7.21921922,\n",
       "            -7.1951952 ,  -7.17117117,  -7.14714715,  -7.12312312,\n",
       "            -7.0990991 ,  -7.07507508,  -7.05105105,  -7.02702703,\n",
       "            -7.003003  ,  -6.97897898,  -6.95495495,  -6.93093093,\n",
       "            -6.90690691,  -6.88288288,  -6.85885886,  -6.83483483,\n",
       "            -6.81081081,  -6.78678679,  -6.76276276,  -6.73873874,\n",
       "            -6.71471471,  -6.69069069,  -6.66666667,  -6.64264264,\n",
       "            -6.61861862,  -6.59459459,  -6.57057057,  -6.54654655,\n",
       "            -6.52252252,  -6.4984985 ,  -6.47447447,  -6.45045045,\n",
       "            -6.42642643,  -6.4024024 ,  -6.37837838,  -6.35435435,\n",
       "            -6.33033033,  -6.30630631,  -6.28228228,  -6.25825826,\n",
       "            -6.23423423,  -6.21021021,  -6.18618619,  -6.16216216,\n",
       "            -6.13813814,  -6.11411411,  -6.09009009,  -6.06606607,\n",
       "            -6.04204204,  -6.01801802,  -5.99399399,  -5.96996997,\n",
       "            -5.94594595,  -5.92192192,  -5.8978979 ,  -5.87387387,\n",
       "            -5.84984985,  -5.82582583,  -5.8018018 ,  -5.77777778,\n",
       "            -5.75375375,  -5.72972973,  -5.70570571,  -5.68168168,\n",
       "            -5.65765766,  -5.63363363,  -5.60960961,  -5.58558559,\n",
       "            -5.56156156,  -5.53753754,  -5.51351351,  -5.48948949,\n",
       "            -5.46546547,  -5.44144144,  -5.41741742,  -5.39339339,\n",
       "            -5.36936937,  -5.34534535,  -5.32132132,  -5.2972973 ,\n",
       "            -5.27327327,  -5.24924925,  -5.22522523,  -5.2012012 ,\n",
       "            -5.17717718,  -5.15315315,  -5.12912913,  -5.10510511,\n",
       "            -5.08108108,  -5.05705706,  -5.03303303,  -5.00900901,\n",
       "            -4.98498498,  -4.96096096,  -4.93693694,  -4.91291291,\n",
       "            -4.88888889,  -4.86486486,  -4.84084084,  -4.81681682,\n",
       "            -4.79279279,  -4.76876877,  -4.74474474,  -4.72072072,\n",
       "            -4.6966967 ,  -4.67267267,  -4.64864865,  -4.62462462,\n",
       "            -4.6006006 ,  -4.57657658,  -4.55255255,  -4.52852853,\n",
       "            -4.5045045 ,  -4.48048048,  -4.45645646,  -4.43243243,\n",
       "            -4.40840841,  -4.38438438,  -4.36036036,  -4.33633634,\n",
       "            -4.31231231,  -4.28828829,  -4.26426426,  -4.24024024,\n",
       "            -4.21621622,  -4.19219219,  -4.16816817,  -4.14414414,\n",
       "            -4.12012012,  -4.0960961 ,  -4.07207207,  -4.04804805,\n",
       "            -4.02402402,  -4.        ,  -3.97597598,  -3.95195195,\n",
       "            -3.92792793,  -3.9039039 ,  -3.87987988,  -3.85585586,\n",
       "            -3.83183183,  -3.80780781,  -3.78378378,  -3.75975976,\n",
       "            -3.73573574,  -3.71171171,  -3.68768769,  -3.66366366,\n",
       "            -3.63963964,  -3.61561562,  -3.59159159,  -3.56756757,\n",
       "            -3.54354354,  -3.51951952,  -3.4954955 ,  -3.47147147,\n",
       "            -3.44744745,  -3.42342342,  -3.3993994 ,  -3.37537538,\n",
       "            -3.35135135,  -3.32732733,  -3.3033033 ,  -3.27927928,\n",
       "            -3.25525526,  -3.23123123,  -3.20720721,  -3.18318318,\n",
       "            -3.15915916,  -3.13513514,  -3.11111111,  -3.08708709,\n",
       "            -3.06306306,  -3.03903904,  -3.01501502,  -2.99099099,\n",
       "            -2.96696697,  -2.94294294,  -2.91891892,  -2.89489489,\n",
       "            -2.87087087,  -2.84684685,  -2.82282282,  -2.7987988 ,\n",
       "            -2.77477477,  -2.75075075,  -2.72672673,  -2.7027027 ,\n",
       "            -2.67867868,  -2.65465465,  -2.63063063,  -2.60660661,\n",
       "            -2.58258258,  -2.55855856,  -2.53453453,  -2.51051051,\n",
       "            -2.48648649,  -2.46246246,  -2.43843844,  -2.41441441,\n",
       "            -2.39039039,  -2.36636637,  -2.34234234,  -2.31831832,\n",
       "            -2.29429429,  -2.27027027,  -2.24624625,  -2.22222222,\n",
       "            -2.1981982 ,  -2.17417417,  -2.15015015,  -2.12612613,\n",
       "            -2.1021021 ,  -2.07807808,  -2.05405405,  -2.03003003,\n",
       "            -2.00600601,  -1.98198198,  -1.95795796,  -1.93393393,\n",
       "            -1.90990991,  -1.88588589,  -1.86186186,  -1.83783784,\n",
       "            -1.81381381,  -1.78978979,  -1.76576577,  -1.74174174,\n",
       "            -1.71771772,  -1.69369369,  -1.66966967,  -1.64564565,\n",
       "            -1.62162162,  -1.5975976 ,  -1.57357357,  -1.54954955,\n",
       "            -1.52552553,  -1.5015015 ,  -1.47747748,  -1.45345345,\n",
       "            -1.42942943,  -1.40540541,  -1.38138138,  -1.35735736,\n",
       "            -1.33333333,  -1.30930931,  -1.28528529,  -1.26126126,\n",
       "            -1.23723724,  -1.21321321,  -1.18918919,  -1.16516517,\n",
       "            -1.14114114,  -1.11711712,  -1.09309309,  -1.06906907,\n",
       "            -1.04504505,  -1.02102102,  -0.996997  ,  -0.97297297,\n",
       "            -0.94894895,  -0.92492492,  -0.9009009 ,  -0.87687688,\n",
       "            -0.85285285,  -0.82882883,  -0.8048048 ,  -0.78078078,\n",
       "            -0.75675676,  -0.73273273,  -0.70870871,  -0.68468468,\n",
       "            -0.66066066,  -0.63663664,  -0.61261261,  -0.58858859,\n",
       "            -0.56456456,  -0.54054054,  -0.51651652,  -0.49249249,\n",
       "            -0.46846847,  -0.44444444,  -0.42042042,  -0.3963964 ,\n",
       "            -0.37237237,  -0.34834835,  -0.32432432,  -0.3003003 ,\n",
       "            -0.27627628,  -0.25225225,  -0.22822823,  -0.2042042 ,\n",
       "            -0.18018018,  -0.15615616,  -0.13213213,  -0.10810811,\n",
       "            -0.08408408,  -0.06006006,  -0.03603604,  -0.01201201,\n",
       "             0.01201201,   0.03603604,   0.06006006,   0.08408408,\n",
       "             0.10810811,   0.13213213,   0.15615616,   0.18018018,\n",
       "             0.2042042 ,   0.22822823,   0.25225225,   0.27627628,\n",
       "             0.3003003 ,   0.32432432,   0.34834835,   0.37237237,\n",
       "             0.3963964 ,   0.42042042,   0.44444444,   0.46846847,\n",
       "             0.49249249,   0.51651652,   0.54054054,   0.56456456,\n",
       "             0.58858859,   0.61261261,   0.63663664,   0.66066066,\n",
       "             0.68468468,   0.70870871,   0.73273273,   0.75675676,\n",
       "             0.78078078,   0.8048048 ,   0.82882883,   0.85285285,\n",
       "             0.87687688,   0.9009009 ,   0.92492492,   0.94894895,\n",
       "             0.97297297,   0.996997  ,   1.02102102,   1.04504505,\n",
       "             1.06906907,   1.09309309,   1.11711712,   1.14114114,\n",
       "             1.16516517,   1.18918919,   1.21321321,   1.23723724,\n",
       "             1.26126126,   1.28528529,   1.30930931,   1.33333333,\n",
       "             1.35735736,   1.38138138,   1.40540541,   1.42942943,\n",
       "             1.45345345,   1.47747748,   1.5015015 ,   1.52552553,\n",
       "             1.54954955,   1.57357357,   1.5975976 ,   1.62162162,\n",
       "             1.64564565,   1.66966967,   1.69369369,   1.71771772,\n",
       "             1.74174174,   1.76576577,   1.78978979,   1.81381381,\n",
       "             1.83783784,   1.86186186,   1.88588589,   1.90990991,\n",
       "             1.93393393,   1.95795796,   1.98198198,   2.00600601,\n",
       "             2.03003003,   2.05405405,   2.07807808,   2.1021021 ,\n",
       "             2.12612613,   2.15015015,   2.17417417,   2.1981982 ,\n",
       "             2.22222222,   2.24624625,   2.27027027,   2.29429429,\n",
       "             2.31831832,   2.34234234,   2.36636637,   2.39039039,\n",
       "             2.41441441,   2.43843844,   2.46246246,   2.48648649,\n",
       "             2.51051051,   2.53453453,   2.55855856,   2.58258258,\n",
       "             2.60660661,   2.63063063,   2.65465465,   2.67867868,\n",
       "             2.7027027 ,   2.72672673,   2.75075075,   2.77477477,\n",
       "             2.7987988 ,   2.82282282,   2.84684685,   2.87087087,\n",
       "             2.89489489,   2.91891892,   2.94294294,   2.96696697,\n",
       "             2.99099099,   3.01501502,   3.03903904,   3.06306306,\n",
       "             3.08708709,   3.11111111,   3.13513514,   3.15915916,\n",
       "             3.18318318,   3.20720721,   3.23123123,   3.25525526,\n",
       "             3.27927928,   3.3033033 ,   3.32732733,   3.35135135,\n",
       "             3.37537538,   3.3993994 ,   3.42342342,   3.44744745,\n",
       "             3.47147147,   3.4954955 ,   3.51951952,   3.54354354,\n",
       "             3.56756757,   3.59159159,   3.61561562,   3.63963964,\n",
       "             3.66366366,   3.68768769,   3.71171171,   3.73573574,\n",
       "             3.75975976,   3.78378378,   3.80780781,   3.83183183,\n",
       "             3.85585586,   3.87987988,   3.9039039 ,   3.92792793,\n",
       "             3.95195195,   3.97597598,   4.        ,   4.02402402,\n",
       "             4.04804805,   4.07207207,   4.0960961 ,   4.12012012,\n",
       "             4.14414414,   4.16816817,   4.19219219,   4.21621622,\n",
       "             4.24024024,   4.26426426,   4.28828829,   4.31231231,\n",
       "             4.33633634,   4.36036036,   4.38438438,   4.40840841,\n",
       "             4.43243243,   4.45645646,   4.48048048,   4.5045045 ,\n",
       "             4.52852853,   4.55255255,   4.57657658,   4.6006006 ,\n",
       "             4.62462462,   4.64864865,   4.67267267,   4.6966967 ,\n",
       "             4.72072072,   4.74474474,   4.76876877,   4.79279279,\n",
       "             4.81681682,   4.84084084,   4.86486486,   4.88888889,\n",
       "             4.91291291,   4.93693694,   4.96096096,   4.98498498,\n",
       "             5.00900901,   5.03303303,   5.05705706,   5.08108108,\n",
       "             5.10510511,   5.12912913,   5.15315315,   5.17717718,\n",
       "             5.2012012 ,   5.22522523,   5.24924925,   5.27327327,\n",
       "             5.2972973 ,   5.32132132,   5.34534535,   5.36936937,\n",
       "             5.39339339,   5.41741742,   5.44144144,   5.46546547,\n",
       "             5.48948949,   5.51351351,   5.53753754,   5.56156156,\n",
       "             5.58558559,   5.60960961,   5.63363363,   5.65765766,\n",
       "             5.68168168,   5.70570571,   5.72972973,   5.75375375,\n",
       "             5.77777778,   5.8018018 ,   5.82582583,   5.84984985,\n",
       "             5.87387387,   5.8978979 ,   5.92192192,   5.94594595,\n",
       "             5.96996997,   5.99399399,   6.01801802,   6.04204204,\n",
       "             6.06606607,   6.09009009,   6.11411411,   6.13813814,\n",
       "             6.16216216,   6.18618619,   6.21021021,   6.23423423,\n",
       "             6.25825826,   6.28228228,   6.30630631,   6.33033033,\n",
       "             6.35435435,   6.37837838,   6.4024024 ,   6.42642643,\n",
       "             6.45045045,   6.47447447,   6.4984985 ,   6.52252252,\n",
       "             6.54654655,   6.57057057,   6.59459459,   6.61861862,\n",
       "             6.64264264,   6.66666667,   6.69069069,   6.71471471,\n",
       "             6.73873874,   6.76276276,   6.78678679,   6.81081081,\n",
       "             6.83483483,   6.85885886,   6.88288288,   6.90690691,\n",
       "             6.93093093,   6.95495495,   6.97897898,   7.003003  ,\n",
       "             7.02702703,   7.05105105,   7.07507508,   7.0990991 ,\n",
       "             7.12312312,   7.14714715,   7.17117117,   7.1951952 ,\n",
       "             7.21921922,   7.24324324,   7.26726727,   7.29129129,\n",
       "             7.31531532,   7.33933934,   7.36336336,   7.38738739,\n",
       "             7.41141141,   7.43543544,   7.45945946,   7.48348348,\n",
       "             7.50750751,   7.53153153,   7.55555556,   7.57957958,\n",
       "             7.6036036 ,   7.62762763,   7.65165165,   7.67567568,\n",
       "             7.6996997 ,   7.72372372,   7.74774775,   7.77177177,\n",
       "             7.7957958 ,   7.81981982,   7.84384384,   7.86786787,\n",
       "             7.89189189,   7.91591592,   7.93993994,   7.96396396,\n",
       "             7.98798799,   8.01201201,   8.03603604,   8.06006006,\n",
       "             8.08408408,   8.10810811,   8.13213213,   8.15615616,\n",
       "             8.18018018,   8.2042042 ,   8.22822823,   8.25225225,\n",
       "             8.27627628,   8.3003003 ,   8.32432432,   8.34834835,\n",
       "             8.37237237,   8.3963964 ,   8.42042042,   8.44444444,\n",
       "             8.46846847,   8.49249249,   8.51651652,   8.54054054,\n",
       "             8.56456456,   8.58858859,   8.61261261,   8.63663664,\n",
       "             8.66066066,   8.68468468,   8.70870871,   8.73273273,\n",
       "             8.75675676,   8.78078078,   8.8048048 ,   8.82882883,\n",
       "             8.85285285,   8.87687688,   8.9009009 ,   8.92492492,\n",
       "             8.94894895,   8.97297297,   8.996997  ,   9.02102102,\n",
       "             9.04504505,   9.06906907,   9.09309309,   9.11711712,\n",
       "             9.14114114,   9.16516517,   9.18918919,   9.21321321,\n",
       "             9.23723724,   9.26126126,   9.28528529,   9.30930931,\n",
       "             9.33333333,   9.35735736,   9.38138138,   9.40540541,\n",
       "             9.42942943,   9.45345345,   9.47747748,   9.5015015 ,\n",
       "             9.52552553,   9.54954955,   9.57357357,   9.5975976 ,\n",
       "             9.62162162,   9.64564565,   9.66966967,   9.69369369,\n",
       "             9.71771772,   9.74174174,   9.76576577,   9.78978979,\n",
       "             9.81381381,   9.83783784,   9.86186186,   9.88588589,\n",
       "             9.90990991,   9.93393393,   9.95795796,   9.98198198,\n",
       "            10.00600601,  10.03003003,  10.05405405,  10.07807808,\n",
       "            10.1021021 ,  10.12612613,  10.15015015,  10.17417417,\n",
       "            10.1981982 ,  10.22222222,  10.24624625,  10.27027027,\n",
       "            10.29429429,  10.31831832,  10.34234234,  10.36636637,\n",
       "            10.39039039,  10.41441441,  10.43843844,  10.46246246,\n",
       "            10.48648649,  10.51051051,  10.53453453,  10.55855856,\n",
       "            10.58258258,  10.60660661,  10.63063063,  10.65465465,\n",
       "            10.67867868,  10.7027027 ,  10.72672673,  10.75075075,\n",
       "            10.77477477,  10.7987988 ,  10.82282282,  10.84684685,\n",
       "            10.87087087,  10.89489489,  10.91891892,  10.94294294,\n",
       "            10.96696697,  10.99099099,  11.01501502,  11.03903904,\n",
       "            11.06306306,  11.08708709,  11.11111111,  11.13513514,\n",
       "            11.15915916,  11.18318318,  11.20720721,  11.23123123,\n",
       "            11.25525526,  11.27927928,  11.3033033 ,  11.32732733,\n",
       "            11.35135135,  11.37537538,  11.3993994 ,  11.42342342,\n",
       "            11.44744745,  11.47147147,  11.4954955 ,  11.51951952,\n",
       "            11.54354354,  11.56756757,  11.59159159,  11.61561562,\n",
       "            11.63963964,  11.66366366,  11.68768769,  11.71171171,\n",
       "            11.73573574,  11.75975976,  11.78378378,  11.80780781,\n",
       "            11.83183183,  11.85585586,  11.87987988,  11.9039039 ,\n",
       "            11.92792793,  11.95195195,  11.97597598,  12.        ] h>"
      ]
     },
     "execution_count": 7,
     "metadata": {},
     "output_type": "execute_result"
    }
   ],
   "source": [
    "delta_midnight"
   ]
  },
  {
   "cell_type": "raw",
   "metadata": {},
   "source": [
    "Position of Moon at the observing time."
   ]
  },
  {
   "cell_type": "code",
   "execution_count": 8,
   "metadata": {},
   "outputs": [
    {
     "name": "stderr",
     "output_type": "stream",
     "text": [
      "WARNING: ErfaWarning: ERFA function \"utctai\" yielded 1000 of \"dubious year (Note 3)\" [astropy._erfa.core]\n",
      "WARNING: ErfaWarning: ERFA function \"taiutc\" yielded 1000 of \"dubious year (Note 4)\" [astropy._erfa.core]\n",
      "WARNING: Tried to get polar motions for times before IERS data is valid. Defaulting to polar motion from the 50-yr mean for those. This may affect precision at the 10s of arcsec level [astropy.coordinates.builtin_frames.utils]\n",
      "WARNING: ErfaWarning: ERFA function \"apio13\" yielded 1000 of \"dubious year (Note 2)\" [astropy._erfa.core]\n"
     ]
    }
   ],
   "source": [
    "from astropy.coordinates import get_moon\n",
    "moon_Mar20_to_21 = get_moon(times_Mar20_to_21)\n",
    "moonaltazs_Mar20_to_21 = moon_Mar20_to_21.transform_to(frame_Mar20_to_21)"
   ]
  },
  {
   "cell_type": "code",
   "execution_count": 9,
   "metadata": {},
   "outputs": [
    {
     "name": "stderr",
     "output_type": "stream",
     "text": [
      "WARNING: Tried to get polar motions for times before IERS data is valid. Defaulting to polar motion from the 50-yr mean for those. This may affect precision at the 10s of arcsec level [astropy.coordinates.builtin_frames.utils]\n",
      "WARNING: ErfaWarning: ERFA function \"apio13\" yielded 1000 of \"dubious year (Note 2)\" [astropy._erfa.core]\n"
     ]
    }
   ],
   "source": [
    "hip30438altazs_Mar20_to_21 = hip30438.transform_to(frame_Mar20_to_21)"
   ]
  },
  {
   "cell_type": "code",
   "execution_count": 10,
   "metadata": {},
   "outputs": [
    {
     "data": {
      "image/png": "[encoded data removed]",
      "text/plain": [
       "<Figure size 864x432 with 2 Axes>"
      ]
     },
     "metadata": {},
     "output_type": "display_data"
    }
   ],
   "source": [
    "hourtime = delta_midnight + 12 * u.hour\n",
    "plt.figure(figsize=(12, 6))\n",
    "plt.plot(hourtime, sunaltazs_Mar20_to_21.alt, color='r', label='Sun')\n",
    "plt.plot(hourtime, moonaltazs_Mar20_to_21.alt,\n",
    "         color=[0.75]*3, ls='--', label='Moon')\n",
    "plt.scatter(hourtime, hip30438altazs_Mar20_to_21.alt,\n",
    "            c=hip30438altazs_Mar20_to_21.az, label='Canopus', lw=0, s=8,\n",
    "            cmap='viridis')\n",
    "plt.fill_between(hourtime.to('hr').value, 0, 90,\n",
    "                 sunaltazs_Mar20_to_21.alt < -0*u.deg, color='0.5', zorder=0)\n",
    "plt.fill_between(hourtime.to('hr').value, 0, 90,\n",
    "                 sunaltazs_Mar20_to_21.alt < -18*u.deg, color='k', zorder=0)\n",
    "plt.colorbar().set_label('Azimuth [deg]')\n",
    "plt.legend(loc='upper left')\n",
    "plt.xlim(0, 24)\n",
    "plt.xticks(np.arange(0, 25, 2))\n",
    "plt.ylim(0, 90)\n",
    "plt.xlabel('Hours from Midnigt (1900-03-21)')\n",
    "plt.ylabel('Altitude [deg]')\n",
    "\n",
    "plt.tight_layout()\n",
    "# plt.savefig(\"2018-03-21.png\", dpi=100)\n",
    "plt.savefig(\"1900-03-21.eps\", dpi=100)\n",
    "plt.savefig(\"1900-03-21.png\", dpi=100)"
   ]
  }
 ],
 "metadata": {
  "hide_input": false,
  "kernelspec": {
   "display_name": "Python 3",
   "language": "python",
   "name": "python3"
  },
  "language_info": {
   "codemirror_mode": {
    "name": "ipython",
    "version": 3
   },
   "file_extension": ".py",
   "mimetype": "text/x-python",
   "name": "python",
   "nbconvert_exporter": "python",
   "pygments_lexer": "ipython3",
   "version": "3.5.5"
  }
 },
 "nbformat": 4,
 "nbformat_minor": 2
}
