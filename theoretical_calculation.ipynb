{
 "cells": [
  {
   "cell_type": "code",
   "execution_count": 1,
   "metadata": {},
   "outputs": [],
   "source": [
    "%matplotlib inline\n",
    "import numpy as np\n",
    "from numpy import sin, cos, tan\n",
    "import matplotlib.pyplot as plt\n",
    "from astropy.visualization import astropy_mpl_style\n",
    "# plt.style.use(astropy_mpl_style)\n",
    "\n",
    "import astropy.units as u\n",
    "from astropy.time import Time\n",
    "from astropy.coordinates import SkyCoord, EarthLocation, AltAz, ICRS, Angle"
   ]
  },
  {
   "cell_type": "code",
   "execution_count": 15,
   "metadata": {},
   "outputs": [
    {
     "name": "stdout",
     "output_type": "stream",
     "text": [
      "<SkyCoord (ICRS): (ra, dec) in deg\n",
      "    (95.98795783, -52.69566138)>\n"
     ]
    }
   ],
   "source": [
    "# Can I\n",
    "hip30438 = SkyCoord.from_name(\"HIP 30438\")\n",
    "\n",
    "print(hip30438)"
   ]
  },
  {
   "cell_type": "code",
   "execution_count": 3,
   "metadata": {},
   "outputs": [],
   "source": [
    "lat = 36.2 * u.degree"
   ]
  },
  {
   "cell_type": "code",
   "execution_count": 4,
   "metadata": {},
   "outputs": [
    {
     "name": "stdout",
     "output_type": "stream",
     "text": [
      "A, h = 183.62530915532935 deg 0.9514274552678419 deg\n"
     ]
    }
   ],
   "source": [
    "sinh = sin(lat) * sin(hip30438.dec) + cos(lat) * cos(hip30438.dec) * sin(hip30438.ra)\n",
    "h = np.arcsin(sinh)\n",
    "\n",
    "tanA = cos(hip30438.ra) / (cos(lat) * tan(hip30438.dec) - sin(lat) * sin(hip30438.ra))\n",
    "sinA = cos(hip30438.ra) * cos(hip30438.dec) / cos(h)\n",
    "cosA = sinA / tanA\n",
    "A = np.arctan2(sinA, cosA) + 360 * u.deg\n",
    "\n",
    "print(\"A, h =\", A.to(u.deg), h.to(u.deg))"
   ]
  },
  {
   "cell_type": "code",
   "execution_count": 5,
   "metadata": {},
   "outputs": [],
   "source": [
    "# Multi-Epoch\n",
    "year_arr = np.arange(0, 4000, 1)\n",
    "\n",
    "# Number of days for every year\n",
    "date_nb = np.ones_like(year_arr)\n",
    "date_nb = np.where(year_arr % 4 == 0, 366, 365)\n",
    "date_nb = np.where((year_arr % 100 == 0) & (\n",
    "    year_arr % 400 != 0), 365, date_nb)\n",
    "\n",
    "total_date_nb = np.zeros_like(year_arr)\n",
    "for i in range(year_arr.size):\n",
    "    total_date_nb[i] = np.sum(date_nb[:i+1])\n",
    "\n",
    "total_jyear_nb = total_date_nb / 365.25"
   ]
  },
  {
   "cell_type": "code",
   "execution_count": 6,
   "metadata": {},
   "outputs": [
    {
     "name": "stdout",
     "output_type": "stream",
     "text": [
      "4614.105918913111\n"
     ]
    }
   ],
   "source": [
    "eps = Angle(\"23d26m21.448s\")\n",
    "p1 = 5029.0966\n",
    "p2 = 4612.4362\n",
    "print(p1 * cos(eps))"
   ]
  },
  {
   "cell_type": "code",
   "execution_count": 29,
   "metadata": {},
   "outputs": [],
   "source": [
    "# Precession rate\n",
    "pra = 4612.4362 * u.arcsec\n",
    "# pdec = 2004.3109 * u.arcsec\n",
    "\n",
    "# The correction of RA and Dec.\n",
    "dra = pra * total_jyear_nb / 100\n",
    "# ddec = pdec * total_jyear_nb / 100\n",
    "\n",
    "# print(np.max(hip30438.dec + ddec))"
   ]
  },
  {
   "cell_type": "code",
   "execution_count": 40,
   "metadata": {},
   "outputs": [],
   "source": [
    "sinh = sin(lat) * sin(hip30438.dec + ddec) + cos(lat) * \\\n",
    "    cos(hip30438.dec + ddec) * sin(hip30438.ra + dra)\n",
    "h = np.arcsin(sinh)\n",
    "\n",
    "tanA = cos(hip30438.ra + dra) / (cos(lat) *\n",
    "                           tan(hip30438.dec + ddec) - sin(lat) * sin(hip30438.ra + dra))\n",
    "sinA = cos(hip30438.ra + dra) * cos(hip30438.dec + ddec) / cos(h)\n",
    "cosA = sinA / tanA\n",
    "A = np.arctan2(sinA, cosA) + 360 * u.degree\n",
    "\n",
    "# print(\"A, h =\", A.to(u.deg), h.to(u.deg))"
   ]
  },
  {
   "cell_type": "code",
   "execution_count": 33,
   "metadata": {},
   "outputs": [
    {
     "data": {
      "image/png": "[encoded data removed]",
      "text/plain": [
       "<Figure size 432x288 with 1 Axes>"
      ]
     },
     "metadata": {},
     "output_type": "display_data"
    }
   ],
   "source": [
    "# plt.plot(2000 - total_jyear_nb, A.to(u.deg), label=\"A\")\n",
    "plt.plot(2000 - total_jyear_nb, h.to(u.deg), label=\"h\")\n",
    "\n",
    "plt.xlim(-2000, 2000)\n",
    "# plt.ylim(-25, 5)\n",
    "plt.xlabel(\"Year\")\n",
    "plt.ylabel(\"Altitude [degree]\")\n",
    "\n",
    "plt.grid()\n",
    "plt.show()"
   ]
  },
  {
   "cell_type": "code",
   "execution_count": 44,
   "metadata": {},
   "outputs": [
    {
     "data": {
      "image/png": "[encoded data removed]",
      "text/plain": [
       "<Figure size 432x288 with 1 Axes>"
      ]
     },
     "metadata": {},
     "output_type": "display_data"
    }
   ],
   "source": [
    "plt.plot(2000 - total_jyear_nb, A.to(u.degree), label=\"A\")\n",
    "\n",
    "plt.xlim(-2000, 2000)\n",
    "# plt.ylim(-25, 5)\n",
    "plt.xlabel(\"Year\")\n",
    "plt.ylabel(\"Azimuth [degree]\")\n",
    "plt.grid()\n",
    "plt.savefig(\"Azimuth.png\")\n",
    "plt.savefig(\"/Users/Neo/Desktop/Azimuth.png\")"
   ]
  }
 ],
 "metadata": {
  "hide_input": false,
  "kernelspec": {
   "display_name": "Python 3",
   "language": "python",
   "name": "python3"
  },
  "language_info": {
   "codemirror_mode": {
    "name": "ipython",
    "version": 3
   },
   "file_extension": ".py",
   "mimetype": "text/x-python",
   "name": "python",
   "nbconvert_exporter": "python",
   "pygments_lexer": "ipython3",
   "version": "3.5.5"
  }
 },
 "nbformat": 4,
 "nbformat_minor": 2
}
