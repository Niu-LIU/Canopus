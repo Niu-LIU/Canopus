{
 "cells": [
  {
   "cell_type": "code",
   "execution_count": 65,
   "metadata": {},
   "outputs": [],
   "source": [
    "from astropy.table import Table, join, unique, Column\n",
    "import astropy.units as u\n",
    "from astropy.coordinates import Angle\n",
    "\n",
    "# read source position from VLBI and Gaia catalogs.\n",
    "tv = Table.read(\"/Users/Neo/Astronomy/Data/VLBISolutions/\"\n",
    "                \"vlbi2_server/GalacticAberration/GaiaDR2-timespan-solutions/\"\n",
    "                \"gaiadr2-timespan-noGAb.cat\", format=\"ascii\",\n",
    "                names=[\"ivs_name\", \"iers_name\", \"ra\", \"dec\",\n",
    "                       \"ra_err\", \"dec_err\", \"ra_dec_corr\",\n",
    "                       \"epo_mean\", \"epo_beg\", \"epo_end\",\n",
    "                       \"num_sess\", \"num_obs\", \"num_obsr\", \"flg\"])\n",
    "tv[\"ra\"].unit = u.deg\n",
    "tv[\"dec\"].unit = u.deg\n",
    "\n",
    "# Read Gaia DR2 IERS quasar\n",
    "tg = Table.read(\"/Users/Neo/Astronomy/Data/catalogs/Gaia_DR2/\"\n",
    "                \"gaiadr2_iers.fits\")\n",
    "\n",
    "t_com = join(tv, tg, keys=\"iers_name\")"
   ]
  },
  {
   "cell_type": "code",
   "execution_count": 66,
   "metadata": {},
   "outputs": [
    {
     "name": "stdout",
     "output_type": "stream",
     "text": [
      "-27.50947382423874\n",
      "-16.233087578143568\n"
     ]
    },
    {
     "data": {
      "text/plain": [
       "'The unit is mas.\\n'"
      ]
     },
     "execution_count": 66,
     "metadata": {},
     "output_type": "execute_result"
    }
   ],
   "source": [
    "mask = (t_com[\"iers_name\"] == \"1213+350\")\n",
    "dra = (t_com[mask][\"ra_2\"] - t_com[mask][\"ra_1\"])[0] * 3.e6\n",
    "ddec = (t_com[mask][\"dec_2\"] - t_com[mask][\"dec_1\"])[0] * 3.e6\n",
    "print(dra)\n",
    "print(ddec)\n",
    "\"\"\"The unit is mas.\n",
    "\"\"\""
   ]
  },
  {
   "cell_type": "code",
   "execution_count": 67,
   "metadata": {},
   "outputs": [
    {
     "name": "stdout",
     "output_type": "stream",
     "text": [
      "PNG (5620, 7560) RGBA\n"
     ]
    }
   ],
   "source": [
    "\"\"\"I will play with the postscript file.\n",
    "\"\"\"\n",
    "from PIL import Image\n",
    "im = Image.open(\"1213+350_X.png\")\n",
    "from __future__ import print_function\n",
    "print(im.format, im.size, im.mode)"
   ]
  },
  {
   "cell_type": "code",
   "execution_count": 78,
   "metadata": {},
   "outputs": [
    {
     "data": {
      "text/plain": [
       "array([5.4       , 4.01428571])"
      ]
     },
     "execution_count": 78,
     "metadata": {},
     "output_type": "execute_result"
    }
   ],
   "source": [
    "np.array([7560, 5620]) / 20 / 7 / 5 / 2"
   ]
  },
  {
   "cell_type": "code",
   "execution_count": 69,
   "metadata": {},
   "outputs": [],
   "source": [
    "# Read the corresponding pixel coordinates of x-axis and y-axis\n",
    "# The coordinate of ra=(20, 0, -20) mas on the bottom line of the image for radio source 1213+350 are:\n",
    "#  ra(mas)     x-pixel\n",
    "#   20         122\n",
    "#    0         256\n",
    "#  -20         390\n",
    "# The coordinate of dec=(0, -20, -40) mas on the bottom line of the image for radio source 1213+350 are:\n",
    "#  dec(mas)     y-pixel\n",
    "#    0          301\n",
    "#  -20          435\n",
    "#  -40          569\n",
    "# NOTE: the positive direction of the coordinate is left-up.\n",
    "\n",
    "def convert_x(ra):\n",
    "    \"\"\"Convert the right ascesion into the pixel coirdinate of x-axis.\n",
    "\n",
    "    Parameter\n",
    "    ---------\n",
    "    ra : float\n",
    "        right ascension in mas.\n",
    "\n",
    "    Return\n",
    "    ------\n",
    "    x : float\n",
    "        pixel coordinate of x-axis\n",
    "    \"\"\"\n",
    "\n",
    "    x_scale = (122. - 390.) / 40.\n",
    "    x = (ra - 0) * x_scale + 256\n",
    "\n",
    "    return x\n",
    "\n",
    "def convert_y(dec):\n",
    "    \"\"\"Convert the declination into the pixel coirdinate of x-axis.\n",
    "\n",
    "    Parameter\n",
    "    ---------\n",
    "    dec : float\n",
    "        declination in mas.\n",
    "\n",
    "    Return\n",
    "    ------\n",
    "    y : float\n",
    "        pixel coordinate of y-axis\n",
    "    \"\"\"\n",
    "\n",
    "    y_scale = (301. - 569.) / 40.\n",
    "    y = (dec - 0) * y_scale + 301\n",
    "\n",
    "    return y"
   ]
  },
  {
   "cell_type": "code",
   "execution_count": 70,
   "metadata": {},
   "outputs": [
    {
     "data": {
      "text/plain": [
       "[<matplotlib.lines.Line2D at 0x11fb34978>]"
      ]
     },
     "execution_count": 70,
     "metadata": {},
     "output_type": "execute_result"
    },
    {
     "data": {
      "image/png": "[encoded data removed]",
      "text/plain": [
       "<Figure size 432x288 with 1 Axes>"
      ]
     },
     "metadata": {},
     "output_type": "display_data"
    }
   ],
   "source": [
    "import matplotlib.pyplot as plt\n",
    "import numpy as np\n",
    "from numpy import sin, cos\n",
    "\n",
    "# t = [i/np.pi for i in np.arange(0, 360)]\n",
    "\n",
    "M, m = 0.873, 0.458\n",
    "pa = 120\n",
    "\n",
    "t = np.linspace(0, 2 * np.pi, 360)\n",
    "x = M * np.cos(t)\n",
    "y = m * sin(t)\n",
    "plt.plot(x, y)\n",
    "\n",
    "alpha = np.deg2rad(-pa + 90)\n",
    "\n",
    "x1 = x * cos(alpha) - y * sin(alpha)\n",
    "y1 = x * sin(alpha) + y * cos(alpha)\n",
    "\n",
    "plt.plot(x1, y1, \"r\")"
   ]
  },
  {
   "cell_type": "code",
   "execution_count": 73,
   "metadata": {},
   "outputs": [],
   "source": [
    "import matplotlib.pyplot as plt\n",
    "import numpy as np\n",
    "from numpy import sin, cos\n",
    "\n",
    "def ellipse_rotation(M, m, pa):\n",
    "    \"\"\"Calculate the (x, y) position for an ellipse after rotation.\n",
    "    \n",
    "    Parameters\n",
    "    ----------\n",
    "    M : float\n",
    "        major axis\n",
    "    m : floar\n",
    "        minor axis\n",
    "    pa : float\n",
    "        positional angle, degree.\n",
    "        \n",
    "    Returns\n",
    "    -------\n",
    "    x1/y1 : ndarray of float\n",
    "    \"\"\"\n",
    "\n",
    "#     M, m = 0.873, 0.458\n",
    "#     pa = 120\n",
    "\n",
    "    t = np.linspace(0, 2 * np.pi, 360)\n",
    "    x = M * np.cos(t)\n",
    "    y = m * sin(t)\n",
    "    plt.plot(x, y)\n",
    "\n",
    "    alpha = np.deg2rad(-pa)\n",
    "\n",
    "    x1 = x * cos(alpha) - y * sin(alpha)\n",
    "    y1 = x * sin(alpha) + y * cos(alpha)\n",
    "\n",
    "    return x1, y1"
   ]
  },
  {
   "cell_type": "code",
   "execution_count": 79,
   "metadata": {},
   "outputs": [
    {
     "data": {
      "image/png": "[encoded data removed]",
      "text/plain": [
       "<Figure size 396x288 with 1 Axes>"
      ]
     },
     "metadata": {},
     "output_type": "display_data"
    }
   ],
   "source": [
    "\"\"\"Code copied from https://matplotlib.org/examples/misc/sample_data_demo.html.\n",
    "Grab mpl data from the ~/.matplotlib/sample_data cache if it exists, else\n",
    "fetch it from GitHub and cache it\n",
    "\"\"\"\n",
    "from __future__ import print_function\n",
    "import matplotlib as mpl\n",
    "\n",
    "import matplotlib.pyplot as plt\n",
    "%matplotlib inline\n",
    "%config Inlinebackend.figure_format = \"svg\"\n",
    "import numpy as np\n",
    "\n",
    "# Plot the orignal map\n",
    "fname = \"TXS_1213+350_95APR12X.jpeg\"\n",
    "im = plt.imread(fname)\n",
    "\n",
    "fig, ax = plt.subplots(figsize=(5.5, 4))\n",
    "ax.imshow(im, cmap=\"gray\")\n",
    "ax.axis(\"off\")\n",
    "\n",
    "# Plot the VLBI and Gaia DR2 position\n",
    "# scale\n",
    "# x_scale = (122. - 390.) / 40. = 6.7\n",
    "# y_scale = (301. - 569.) / 40. = 6.7\n",
    "scale = -6.7\n",
    "\n",
    "# VLBI\n",
    "xv = (0 - 0) * scale + 256\n",
    "yv = (0 - 0) * scale + 301\n",
    "# ax.plot(xv, yv, \"rx\")\n",
    "Mv, mv = 0.873 * scale, 0.458 * scale\n",
    "x1v, y1v = ellipse_rotation(Mv, mv, 120)\n",
    "ax.plot(x1v + xv, y1v + yv, \"r\", lw=1,\n",
    "       label=\"VLBI\")\n",
    "\n",
    "\n",
    "# Gaia DR2\n",
    "xg = (dra - 0) * scale + 256\n",
    "yg = (ddec - 0) * scale + 301\n",
    "# ax.plot(xg, yg, \"bx\")\n",
    "Mg, mg = 0.653 * scale, 0.653 * scale\n",
    "x1g, y1g = ellipse_rotation(Mg, mg, 179)\n",
    "ax.plot(x1g + xg, y1g + yg, \"b\", lw=1,\n",
    "       label=\"Gaia DR2\")\n",
    "ax.legend(loc=\"upper left\", fontsize=5)\n",
    "\n",
    "plt.savefig(\"1213+350.eps\", dpi=480, bbox_inches=\"tight\")"
   ]
  }
 ],
 "metadata": {
  "kernelspec": {
   "display_name": "Python 3",
   "language": "python",
   "name": "python3"
  },
  "language_info": {
   "codemirror_mode": {
    "name": "ipython",
    "version": 3
   },
   "file_extension": ".py",
   "mimetype": "text/x-python",
   "name": "python",
   "nbconvert_exporter": "python",
   "pygments_lexer": "ipython3",
   "version": "3.5.5"
  }
 },
 "nbformat": 4,
 "nbformat_minor": 2
}
